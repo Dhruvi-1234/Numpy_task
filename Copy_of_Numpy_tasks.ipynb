{
  "cells": [
    {
      "cell_type": "markdown",
      "metadata": {
        "id": "view-in-github",
        "colab_type": "text"
      },
      "source": [
        "<a href=\"https://colab.research.google.com/github/Dhruvi-1234/Numpy_task/blob/main/Copy_of_Numpy_tasks.ipynb\" target=\"_parent\"><img src=\"https://colab.research.google.com/assets/colab-badge.svg\" alt=\"Open In Colab\"/></a>"
      ]
    },
    {
      "cell_type": "markdown",
      "metadata": {
        "id": "cbv3Te4idzn-"
      },
      "source": [
        "# Numpy\n",
        "\n"
      ]
    },
    {
      "cell_type": "markdown",
      "metadata": {
        "id": "YcKwZa6TdzoB"
      },
      "source": [
        "#### 1. Import the numpy package under the name `np` (★☆☆) \n",
        "(**hint**: import … as …)"
      ]
    },
    {
      "cell_type": "code",
      "execution_count": null,
      "metadata": {
        "collapsed": true,
        "id": "b3vRj7JLdzoC"
      },
      "outputs": [],
      "source": [
        "import numpy as np"
      ]
    },
    {
      "cell_type": "markdown",
      "metadata": {
        "id": "tM4nZCtNdzoD"
      },
      "source": [
        "#### 2. Print the numpy version and the configuration (★☆☆) \n",
        "(**hint**: np.\\_\\_version\\_\\_, np.show\\_config)"
      ]
    },
    {
      "cell_type": "code",
      "execution_count": null,
      "metadata": {
        "id": "P1Jv7MXwdzoE",
        "colab": {
          "base_uri": "https://localhost:8080/"
        },
        "outputId": "6860c941-8e31-4939-e595-bb3f67362725"
      },
      "outputs": [
        {
          "output_type": "stream",
          "name": "stdout",
          "text": [
            "1.21.6\n",
            "blas_mkl_info:\n",
            "  NOT AVAILABLE\n",
            "blis_info:\n",
            "  NOT AVAILABLE\n",
            "openblas_info:\n",
            "    libraries = ['openblas', 'openblas']\n",
            "    library_dirs = ['/usr/local/lib']\n",
            "    language = c\n",
            "    define_macros = [('HAVE_CBLAS', None)]\n",
            "    runtime_library_dirs = ['/usr/local/lib']\n",
            "blas_opt_info:\n",
            "    libraries = ['openblas', 'openblas']\n",
            "    library_dirs = ['/usr/local/lib']\n",
            "    language = c\n",
            "    define_macros = [('HAVE_CBLAS', None)]\n",
            "    runtime_library_dirs = ['/usr/local/lib']\n",
            "lapack_mkl_info:\n",
            "  NOT AVAILABLE\n",
            "openblas_lapack_info:\n",
            "    libraries = ['openblas', 'openblas']\n",
            "    library_dirs = ['/usr/local/lib']\n",
            "    language = c\n",
            "    define_macros = [('HAVE_CBLAS', None)]\n",
            "    runtime_library_dirs = ['/usr/local/lib']\n",
            "lapack_opt_info:\n",
            "    libraries = ['openblas', 'openblas']\n",
            "    library_dirs = ['/usr/local/lib']\n",
            "    language = c\n",
            "    define_macros = [('HAVE_CBLAS', None)]\n",
            "    runtime_library_dirs = ['/usr/local/lib']\n",
            "Supported SIMD extensions in this NumPy install:\n",
            "    baseline = SSE,SSE2,SSE3\n",
            "    found = SSSE3,SSE41,POPCNT,SSE42,AVX,F16C,FMA3,AVX2\n",
            "    not found = AVX512F,AVX512CD,AVX512_KNL,AVX512_KNM,AVX512_SKX,AVX512_CLX,AVX512_CNL,AVX512_ICL\n"
          ]
        }
      ],
      "source": [
        "print(np.__version__)\n",
        "np.show_config()"
      ]
    },
    {
      "cell_type": "markdown",
      "metadata": {
        "id": "7NKXGxFwdzoE"
      },
      "source": [
        "#### 3. Create a null vector of size 10 (★☆☆) \n",
        "(**hint**: np.zeros)"
      ]
    },
    {
      "cell_type": "code",
      "execution_count": null,
      "metadata": {
        "id": "tPCxBcJSdzoE",
        "colab": {
          "base_uri": "https://localhost:8080/"
        },
        "outputId": "d004e41c-feb8-4631-8e83-9050e038a5eb"
      },
      "outputs": [
        {
          "output_type": "stream",
          "name": "stdout",
          "text": [
            "[0. 0. 0. 0. 0. 0. 0. 0. 0. 0.]\n"
          ]
        }
      ],
      "source": [
        "x=np.zeros(10)\n",
        "print(x)"
      ]
    },
    {
      "cell_type": "markdown",
      "metadata": {
        "id": "VTi42WgPdzoE"
      },
      "source": [
        "#### 4.  How to find the memory size of any array (★☆☆) \n",
        "(**hint**: size, itemsize)"
      ]
    },
    {
      "cell_type": "code",
      "execution_count": null,
      "metadata": {
        "id": "JHHsbCECdzoE",
        "colab": {
          "base_uri": "https://localhost:8080/"
        },
        "outputId": "cc9eff39-2a97-41fe-f460-28729fbe2134"
      },
      "outputs": [
        {
          "output_type": "stream",
          "name": "stdout",
          "text": [
            "Memory size of numpy array in bytes: 32\n"
          ]
        }
      ],
      "source": [
        "x = np.array([10,20,30,40])\n",
        "print(\"Memory size of numpy array in bytes:\",x.size * x.itemsize)"
      ]
    },
    {
      "cell_type": "markdown",
      "metadata": {
        "id": "WhGkLjT-dzoF"
      },
      "source": [
        "#### 5.  How to get the documentation of the numpy add function from the command line? (★☆☆) \n",
        "(**hint**: np.info)"
      ]
    },
    {
      "cell_type": "code",
      "execution_count": null,
      "metadata": {
        "collapsed": true,
        "id": "AYwg9Jz1dzoF",
        "colab": {
          "base_uri": "https://localhost:8080/"
        },
        "outputId": "1ca538d9-e0e7-4d97-e4e3-a7687c3b28b0"
      },
      "outputs": [
        {
          "output_type": "stream",
          "name": "stdout",
          "text": [
            "add(x1, x2, /, out=None, *, where=True, casting='same_kind', order='K', dtype=None, subok=True[, signature, extobj])\n",
            "\n",
            "Add arguments element-wise.\n",
            "\n",
            "Parameters\n",
            "----------\n",
            "x1, x2 : array_like\n",
            "    The arrays to be added.\n",
            "    If ``x1.shape != x2.shape``, they must be broadcastable to a common\n",
            "    shape (which becomes the shape of the output).\n",
            "out : ndarray, None, or tuple of ndarray and None, optional\n",
            "    A location into which the result is stored. If provided, it must have\n",
            "    a shape that the inputs broadcast to. If not provided or None,\n",
            "    a freshly-allocated array is returned. A tuple (possible only as a\n",
            "    keyword argument) must have length equal to the number of outputs.\n",
            "where : array_like, optional\n",
            "    This condition is broadcast over the input. At locations where the\n",
            "    condition is True, the `out` array will be set to the ufunc result.\n",
            "    Elsewhere, the `out` array will retain its original value.\n",
            "    Note that if an uninitialized `out` array is created via the default\n",
            "    ``out=None``, locations within it where the condition is False will\n",
            "    remain uninitialized.\n",
            "**kwargs\n",
            "    For other keyword-only arguments, see the\n",
            "    :ref:`ufunc docs <ufuncs.kwargs>`.\n",
            "\n",
            "Returns\n",
            "-------\n",
            "add : ndarray or scalar\n",
            "    The sum of `x1` and `x2`, element-wise.\n",
            "    This is a scalar if both `x1` and `x2` are scalars.\n",
            "\n",
            "Notes\n",
            "-----\n",
            "Equivalent to `x1` + `x2` in terms of array broadcasting.\n",
            "\n",
            "Examples\n",
            "--------\n",
            ">>> np.add(1.0, 4.0)\n",
            "5.0\n",
            ">>> x1 = np.arange(9.0).reshape((3, 3))\n",
            ">>> x2 = np.arange(3.0)\n",
            ">>> np.add(x1, x2)\n",
            "array([[  0.,   2.,   4.],\n",
            "       [  3.,   5.,   7.],\n",
            "       [  6.,   8.,  10.]])\n",
            "\n",
            "The ``+`` operator can be used as a shorthand for ``np.add`` on ndarrays.\n",
            "\n",
            ">>> x1 = np.arange(9.0).reshape((3, 3))\n",
            ">>> x2 = np.arange(3.0)\n",
            ">>> x1 + x2\n",
            "array([[ 0.,  2.,  4.],\n",
            "       [ 3.,  5.,  7.],\n",
            "       [ 6.,  8., 10.]])\n",
            "None\n"
          ]
        }
      ],
      "source": [
        "print(np.info(np.add))"
      ]
    },
    {
      "cell_type": "markdown",
      "metadata": {
        "id": "lQzysZd7dzoF"
      },
      "source": [
        "\n",
        "\n",
        "#### 6.  Create a null vector of size 10 but the fifth value which is 1 (★☆☆) \n",
        "(**hint**: array\\[4\\])"
      ]
    },
    {
      "cell_type": "code",
      "execution_count": null,
      "metadata": {
        "id": "PbYa53AQdzoF",
        "colab": {
          "base_uri": "https://localhost:8080/"
        },
        "outputId": "59baa643-25fa-46c5-d56c-66f69c2dee8c"
      },
      "outputs": [
        {
          "output_type": "stream",
          "name": "stdout",
          "text": [
            "[0. 0. 0. 0. 1. 0. 0. 0. 0. 0.]\n"
          ]
        }
      ],
      "source": [
        "y = np.zeros(10)\n",
        "y[4]=1\n",
        "print(y)"
      ]
    },
    {
      "cell_type": "markdown",
      "metadata": {
        "id": "ReZozK9idzoF"
      },
      "source": [
        "#### 7.  Create a vector with values ranging from 10 to 49 (★☆☆) \n",
        "(**hint**: np.arange)"
      ]
    },
    {
      "cell_type": "code",
      "execution_count": null,
      "metadata": {
        "id": "x-wfJCcKdzoF",
        "colab": {
          "base_uri": "https://localhost:8080/"
        },
        "outputId": "c5af3c09-e0e6-4d65-a859-d4e2942ba724"
      },
      "outputs": [
        {
          "output_type": "stream",
          "name": "stdout",
          "text": [
            "[ 1  2  3  4  5  6  7  8  9 10 11 12 13 14 15 16 17 18 19 20 21 22 23 24\n",
            " 25 26 27 28 29 30 31 32 33 34 35 36 37 38 39 40 41 42 43 44 45 46 47 48\n",
            " 49]\n"
          ]
        }
      ],
      "source": [
        "z = np.arange(1,50)\n",
        "print(z)"
      ]
    },
    {
      "cell_type": "markdown",
      "metadata": {
        "id": "p_937Z34dzoF"
      },
      "source": [
        "#### 8.  Reverse a vector (first element becomes last) (★☆☆) \n",
        "(**hint**: array\\[::-1\\])"
      ]
    },
    {
      "cell_type": "code",
      "execution_count": null,
      "metadata": {
        "id": "OPq5gDTadzoF",
        "colab": {
          "base_uri": "https://localhost:8080/"
        },
        "outputId": "70443fdc-eb73-42a0-ad07-1c8d4c63d883"
      },
      "outputs": [
        {
          "output_type": "execute_result",
          "data": {
            "text/plain": [
              "array([58, 44, 30,  2, 10])"
            ]
          },
          "metadata": {},
          "execution_count": 8
        }
      ],
      "source": [
        "a = np.array([10,2,30,44,58])\n",
        "a[::-1]"
      ]
    },
    {
      "cell_type": "markdown",
      "metadata": {
        "id": "o7x6y1eYdzoF"
      },
      "source": [
        "#### 9.  Create a 3x3 matrix with values ranging from 0 to 8 (★☆☆) \n",
        "(**hint**: reshape)"
      ]
    },
    {
      "cell_type": "code",
      "execution_count": null,
      "metadata": {
        "id": "3M-UpbFldzoF",
        "colab": {
          "base_uri": "https://localhost:8080/"
        },
        "outputId": "f4bcf081-e3aa-403f-e495-376d3f74ece8"
      },
      "outputs": [
        {
          "output_type": "stream",
          "name": "stdout",
          "text": [
            "[[0 1 2]\n",
            " [3 4 5]\n",
            " [6 7 8]]\n"
          ]
        }
      ],
      "source": [
        "x = np.arange(0,9).reshape(3,3)\n",
        "print(x)"
      ]
    },
    {
      "cell_type": "markdown",
      "metadata": {
        "id": "OTlW5RcxdzoG"
      },
      "source": [
        "\n",
        "\n",
        "#### 10. Find indices of non-zero elements from \\[1,2,0,0,4,0\\] (★☆☆) \n",
        "(**hint**: np.nonzero)"
      ]
    },
    {
      "cell_type": "code",
      "execution_count": null,
      "metadata": {
        "id": "oK1oB3nBdzoG",
        "colab": {
          "base_uri": "https://localhost:8080/"
        },
        "outputId": "6673399c-71d3-4d74-982b-c180bbb138ec"
      },
      "outputs": [
        {
          "output_type": "stream",
          "name": "stdout",
          "text": [
            "(array([0, 1, 4]),)\n"
          ]
        }
      ],
      "source": [
        "y = np.array([1,2,0,0,4,0])\n",
        "print(np.nonzero(y))"
      ]
    },
    {
      "cell_type": "markdown",
      "metadata": {
        "id": "CPqD5laQdzoG"
      },
      "source": [
        "#### 11. Create a 3x3 identity matrix (★☆☆) \n",
        "(**hint**: np.eye)"
      ]
    },
    {
      "cell_type": "code",
      "execution_count": null,
      "metadata": {
        "id": "2CwE3vDzdzoG",
        "colab": {
          "base_uri": "https://localhost:8080/"
        },
        "outputId": "fb6c5776-7bee-4fac-d814-bec6b149e06f"
      },
      "outputs": [
        {
          "output_type": "stream",
          "name": "stdout",
          "text": [
            "[[1. 0. 0.]\n",
            " [0. 1. 0.]\n",
            " [0. 0. 1.]]\n"
          ]
        }
      ],
      "source": [
        "I = np.eye(3)\n",
        "print(I)"
      ]
    },
    {
      "cell_type": "markdown",
      "metadata": {
        "id": "hyd-uzvOdzoG"
      },
      "source": [
        "#### 12. Create a 3x3x3 array with random values (★☆☆) \n",
        "(**hint**: np.random.random)"
      ]
    },
    {
      "cell_type": "code",
      "execution_count": null,
      "metadata": {
        "collapsed": true,
        "id": "i2hbCNDZdzoG",
        "colab": {
          "base_uri": "https://localhost:8080/"
        },
        "outputId": "86379784-84d8-42e6-803d-7357c90a7604"
      },
      "outputs": [
        {
          "output_type": "stream",
          "name": "stdout",
          "text": [
            "[[[0.51950908 0.3047339  0.01870668]\n",
            "  [0.46053575 0.33295714 0.40921073]\n",
            "  [0.23373576 0.49833573 0.88449328]]\n",
            "\n",
            " [[0.90072537 0.4453152  0.65085501]\n",
            "  [0.8843197  0.59318155 0.23072638]\n",
            "  [0.53507026 0.00628649 0.42985305]]\n",
            "\n",
            " [[0.86504936 0.91372563 0.31472345]\n",
            "  [0.30738243 0.05716595 0.94700094]\n",
            "  [0.02484436 0.72050561 0.59250948]]]\n"
          ]
        }
      ],
      "source": [
        "A = np.random.random((3,3,3))\n",
        "print(A)"
      ]
    },
    {
      "cell_type": "markdown",
      "metadata": {
        "id": "yGls7uW4dzoG"
      },
      "source": [
        "#### 13. Create a 10x10 array with random values and find the minimum and maximum values (★☆☆) \n",
        "(**hint**: min, max)"
      ]
    },
    {
      "cell_type": "code",
      "execution_count": null,
      "metadata": {
        "id": "ZWSdDNjgdzoG",
        "colab": {
          "base_uri": "https://localhost:8080/"
        },
        "outputId": "83157b54-fa96-42c4-cd80-e34d379507b3"
      },
      "outputs": [
        {
          "output_type": "stream",
          "name": "stdout",
          "text": [
            "0.006328330849329156 0.9856569484052345\n"
          ]
        }
      ],
      "source": [
        "X = np.random.random((10,10))\n",
        "Xmin = X.min()\n",
        "Xmax = X.max()\n",
        "print(Xmin,Xmax)"
      ]
    },
    {
      "cell_type": "markdown",
      "metadata": {
        "id": "JGSEI73wdzoG"
      },
      "source": [
        "#### 14. Create a random vector of size 30 and find the mean value (★☆☆) \n",
        "(**hint**: mean)"
      ]
    },
    {
      "cell_type": "code",
      "execution_count": null,
      "metadata": {
        "id": "uvrJgCefdzoH",
        "colab": {
          "base_uri": "https://localhost:8080/"
        },
        "outputId": "fb901d83-ad80-4b1c-f375-274e6be3e0a8"
      },
      "outputs": [
        {
          "output_type": "stream",
          "name": "stdout",
          "text": [
            "0.5229980177489812\n"
          ]
        }
      ],
      "source": [
        "Y = np.random.random(30)\n",
        "print(Y.mean())"
      ]
    },
    {
      "cell_type": "markdown",
      "metadata": {
        "id": "Xbhs_7kudzoH"
      },
      "source": [
        "#### 15. Create a 2d array with 1 on the border and 0 inside (★☆☆) \n",
        "(**hint**: array\\[1:-1, 1:-1\\])"
      ]
    },
    {
      "cell_type": "code",
      "execution_count": null,
      "metadata": {
        "id": "QmdAbGPldzoH",
        "colab": {
          "base_uri": "https://localhost:8080/"
        },
        "outputId": "9e057b42-3c25-451d-f7b1-379bca66869a"
      },
      "outputs": [
        {
          "output_type": "stream",
          "name": "stdout",
          "text": [
            "[[1. 1. 1. 1. 1. 1. 1. 1. 1. 1.]\n",
            " [1. 0. 0. 0. 0. 0. 0. 0. 0. 1.]\n",
            " [1. 0. 0. 0. 0. 0. 0. 0. 0. 1.]\n",
            " [1. 0. 0. 0. 0. 0. 0. 0. 0. 1.]\n",
            " [1. 0. 0. 0. 0. 0. 0. 0. 0. 1.]\n",
            " [1. 0. 0. 0. 0. 0. 0. 0. 0. 1.]\n",
            " [1. 0. 0. 0. 0. 0. 0. 0. 0. 1.]\n",
            " [1. 0. 0. 0. 0. 0. 0. 0. 0. 1.]\n",
            " [1. 0. 0. 0. 0. 0. 0. 0. 0. 1.]\n",
            " [1. 1. 1. 1. 1. 1. 1. 1. 1. 1.]]\n"
          ]
        }
      ],
      "source": [
        "Z = np.ones((10,10))\n",
        "Z[1:-1,1:-1] = 0\n",
        "print(Z)"
      ]
    },
    {
      "cell_type": "markdown",
      "metadata": {
        "id": "FqFVgv4RdzoH"
      },
      "source": [
        "#### 16. How to add a border (filled with 0's) around an existing array? (★☆☆) \n",
        "(**hint**: np.pad)"
      ]
    },
    {
      "cell_type": "code",
      "execution_count": null,
      "metadata": {
        "id": "fhWoDbE4dzoH",
        "colab": {
          "base_uri": "https://localhost:8080/"
        },
        "outputId": "53b53915-8d27-4860-8d31-104adb07687a"
      },
      "outputs": [
        {
          "output_type": "stream",
          "name": "stdout",
          "text": [
            "[[0. 0. 0. 0. 0. 0. 0. 0. 0. 0. 0. 0.]\n",
            " [0. 1. 1. 1. 1. 1. 1. 1. 1. 1. 1. 0.]\n",
            " [0. 1. 1. 1. 1. 1. 1. 1. 1. 1. 1. 0.]\n",
            " [0. 1. 1. 1. 1. 1. 1. 1. 1. 1. 1. 0.]\n",
            " [0. 1. 1. 1. 1. 1. 1. 1. 1. 1. 1. 0.]\n",
            " [0. 1. 1. 1. 1. 1. 1. 1. 1. 1. 1. 0.]\n",
            " [0. 1. 1. 1. 1. 1. 1. 1. 1. 1. 1. 0.]\n",
            " [0. 1. 1. 1. 1. 1. 1. 1. 1. 1. 1. 0.]\n",
            " [0. 1. 1. 1. 1. 1. 1. 1. 1. 1. 1. 0.]\n",
            " [0. 1. 1. 1. 1. 1. 1. 1. 1. 1. 1. 0.]\n",
            " [0. 1. 1. 1. 1. 1. 1. 1. 1. 1. 1. 0.]\n",
            " [0. 0. 0. 0. 0. 0. 0. 0. 0. 0. 0. 0.]]\n"
          ]
        }
      ],
      "source": [
        "Y = np.ones((10,10))\n",
        "Y = np.pad(Y,pad_width = 1,mode = 'constant',constant_values = 0)\n",
        "print(Y)"
      ]
    },
    {
      "cell_type": "markdown",
      "metadata": {
        "id": "_VmdGZiUdzoH"
      },
      "source": [
        "#### 17. What is the result of the following expression? (★☆☆) \n",
        "(**hint**: NaN = not a number, inf = infinity)"
      ]
    },
    {
      "cell_type": "markdown",
      "metadata": {
        "id": "9mdIdD0wdzoH"
      },
      "source": [
        "```python\n",
        "0 * np.nan\n",
        "np.nan == np.nan\n",
        "np.inf > np.nan\n",
        "np.nan - np.nan\n",
        "0.3 == 3 * 0.1\n",
        "```"
      ]
    },
    {
      "cell_type": "code",
      "execution_count": null,
      "metadata": {
        "id": "nlxR2J3gdzoH",
        "colab": {
          "base_uri": "https://localhost:8080/"
        },
        "outputId": "89836dea-4bae-476e-e3ae-cbb442c7b41b"
      },
      "outputs": [
        {
          "output_type": "stream",
          "name": "stdout",
          "text": [
            "nan\n",
            "False\n",
            "False\n",
            "nan\n",
            "False\n"
          ]
        }
      ],
      "source": [
        "print(0 * np.nan)\n",
        "print(np.nan == np.nan)\n",
        "print(np.inf > np.nan)\n",
        "print(np.nan - np.nan)\n",
        "print(0.3 == 3 * 0.1)"
      ]
    },
    {
      "cell_type": "markdown",
      "metadata": {
        "id": "Aji84gKrdzoH"
      },
      "source": [
        "#### 18. Create a 5x5 matrix with values 1,2,3,4 just below the diagonal (★☆☆) \n",
        "(**hint**: np.diag)"
      ]
    },
    {
      "cell_type": "code",
      "execution_count": null,
      "metadata": {
        "id": "Z59Sl2j1dzoH",
        "colab": {
          "base_uri": "https://localhost:8080/"
        },
        "outputId": "7a75f343-ccd3-4b92-c50c-5a19e3512bcd"
      },
      "outputs": [
        {
          "output_type": "stream",
          "name": "stdout",
          "text": [
            "[[0 0 0 0 0]\n",
            " [1 0 0 0 0]\n",
            " [0 2 0 0 0]\n",
            " [0 0 3 0 0]\n",
            " [0 0 0 4 0]]\n"
          ]
        }
      ],
      "source": [
        "Z = np.diag(1+np.arange(4),k = -1)\n",
        "print(Z)"
      ]
    },
    {
      "cell_type": "markdown",
      "metadata": {
        "id": "jEz4WjiKdzoH"
      },
      "source": [
        "#### 19. Create a 8x8 matrix and fill it with a checkerboard pattern (★☆☆) \n",
        "(**hint**: array\\[::2\\])"
      ]
    },
    {
      "cell_type": "code",
      "execution_count": null,
      "metadata": {
        "id": "B4U8ZRuadzoI",
        "colab": {
          "base_uri": "https://localhost:8080/"
        },
        "outputId": "1cb15686-2106-41f6-82ed-fb3059f20d39"
      },
      "outputs": [
        {
          "output_type": "stream",
          "name": "stdout",
          "text": [
            "[[0 1 0 1 0 1 0 1]\n",
            " [1 0 1 0 1 0 1 0]\n",
            " [0 1 0 1 0 1 0 1]\n",
            " [1 0 1 0 1 0 1 0]\n",
            " [0 1 0 1 0 1 0 1]\n",
            " [1 0 1 0 1 0 1 0]\n",
            " [0 1 0 1 0 1 0 1]\n",
            " [1 0 1 0 1 0 1 0]]\n"
          ]
        }
      ],
      "source": [
        "Z = np.zeros((8,8),dtype=int)\n",
        "Z[1::2,::2] = 1\n",
        "Z[::2,1::2] = 1\n",
        "print(Z)"
      ]
    },
    {
      "cell_type": "markdown",
      "metadata": {
        "id": "b07ogoejdzoI"
      },
      "source": [
        "#### 20. Consider a (6,7,8) shape array, what is the index (x,y,z) of the 100th element? \n",
        "(**hint**: np.unravel_index)"
      ]
    },
    {
      "cell_type": "code",
      "execution_count": null,
      "metadata": {
        "id": "ZaU4G8M4dzoI",
        "colab": {
          "base_uri": "https://localhost:8080/"
        },
        "outputId": "8ff6e389-b344-48f1-ffee-3ac552dde599"
      },
      "outputs": [
        {
          "output_type": "stream",
          "name": "stdout",
          "text": [
            "(1, 5, 4)\n"
          ]
        }
      ],
      "source": [
        "B = np.unravel_index(100,(6,7,8))\n",
        "print(B)"
      ]
    },
    {
      "cell_type": "markdown",
      "metadata": {
        "id": "x-SVQEB2dzoI"
      },
      "source": [
        "#### 21. Create a checkerboard 8x8 matrix using the tile function (★☆☆) \n",
        "(**hint**: np.tile)"
      ]
    },
    {
      "cell_type": "code",
      "execution_count": null,
      "metadata": {
        "id": "l5d578DVdzoI",
        "colab": {
          "base_uri": "https://localhost:8080/"
        },
        "outputId": "9f41efd2-8fa9-4001-e6bd-11a6a28643da"
      },
      "outputs": [
        {
          "output_type": "stream",
          "name": "stdout",
          "text": [
            "[[0 1 0 1 0 1 0 1]\n",
            " [1 0 1 0 1 0 1 0]\n",
            " [0 1 0 1 0 1 0 1]\n",
            " [1 0 1 0 1 0 1 0]\n",
            " [0 1 0 1 0 1 0 1]\n",
            " [1 0 1 0 1 0 1 0]\n",
            " [0 1 0 1 0 1 0 1]\n",
            " [1 0 1 0 1 0 1 0]]\n"
          ]
        }
      ],
      "source": [
        "X = np.tile(([0,1],[1,0]),(4,4))\n",
        "print(X)"
      ]
    },
    {
      "cell_type": "markdown",
      "metadata": {
        "id": "KE8dKl3edzoI"
      },
      "source": [
        "#### 22. Normalize a 5x5 random matrix (★☆☆) \n",
        "(**hint**: (x - min) / (max - min))"
      ]
    },
    {
      "cell_type": "code",
      "execution_count": null,
      "metadata": {
        "id": "Q9GcjqT7dzoI",
        "colab": {
          "base_uri": "https://localhost:8080/"
        },
        "outputId": "84f9884c-2986-4bf7-f77e-b84e5f840992"
      },
      "outputs": [
        {
          "output_type": "stream",
          "name": "stdout",
          "text": [
            "[[0.34473549 0.95544625 0.13239755 1.         0.75137534]\n",
            " [0.50814059 0.44145789 0.88678846 0.69695935 0.33596703]\n",
            " [0.47833814 0.63137956 0.15266164 0.0714906  0.87990052]\n",
            " [0.21777498 0.         0.49985694 0.55090148 0.63384366]\n",
            " [0.50940351 0.91709974 0.39009542 0.30280006 0.91558973]]\n"
          ]
        }
      ],
      "source": [
        "Y = np.random.random((5,5))\n",
        "Ymin = Y.min()\n",
        "Ymax = Y.max()\n",
        "N = (Y - Ymin)/(Ymax -Ymin)\n",
        "print(N)"
      ]
    },
    {
      "cell_type": "markdown",
      "metadata": {
        "id": "aYcHiCfCdzoI"
      },
      "source": [
        "#### 23. Create a custom dtype that describes a color as four unsigned bytes (RGBA) (★☆☆) \n",
        "(**hint**: np.dtype)"
      ]
    },
    {
      "cell_type": "code",
      "execution_count": null,
      "metadata": {
        "collapsed": true,
        "id": "682e99NOdzoI",
        "colab": {
          "base_uri": "https://localhost:8080/"
        },
        "outputId": "0dca375b-a4e0-4fd2-ceb0-0b443138c07b"
      },
      "outputs": [
        {
          "output_type": "stream",
          "name": "stderr",
          "text": [
            "/usr/local/lib/python3.7/dist-packages/ipykernel_launcher.py:1: FutureWarning: Passing (type, 1) or '1type' as a synonym of type is deprecated; in a future version of numpy, it will be understood as (type, (1,)) / '(1,)type'.\n",
            "  \"\"\"Entry point for launching an IPython kernel.\n"
          ]
        },
        {
          "output_type": "execute_result",
          "data": {
            "text/plain": [
              "dtype([('r', 'u1'), ('g', 'u1'), ('b', 'u1'), ('a', 'u1')])"
            ]
          },
          "metadata": {},
          "execution_count": 23
        }
      ],
      "source": [
        "color = np.dtype([(\"r\", np.ubyte, 1),(\"g\", np.ubyte, 1),(\"b\", np.ubyte, 1),(\"a\", np.ubyte, 1)])\n",
        "color"
      ]
    },
    {
      "cell_type": "markdown",
      "metadata": {
        "id": "SBiRAuAcdzoJ"
      },
      "source": [
        "#### 24. Multiply a 5x3 matrix by a 3x2 matrix (real matrix product) (★☆☆) \n",
        "(**hint**: np.dot | @)"
      ]
    },
    {
      "cell_type": "code",
      "execution_count": null,
      "metadata": {
        "id": "fmcfhZoxdzoJ",
        "colab": {
          "base_uri": "https://localhost:8080/"
        },
        "outputId": "65dfc270-7714-4c92-dfae-bdd2c86cf3e7"
      },
      "outputs": [
        {
          "output_type": "stream",
          "name": "stdout",
          "text": [
            "[[0.52704645 0.66694143]\n",
            " [0.41129582 0.57078896]\n",
            " [0.28075198 0.34472147]\n",
            " [0.48924996 0.55949658]\n",
            " [0.9176873  1.07616053]]\n"
          ]
        }
      ],
      "source": [
        "x = np.random.random((5,3))\n",
        "y = np.random.random((3,2))\n",
        "print(np.dot(x,y))"
      ]
    },
    {
      "cell_type": "markdown",
      "metadata": {
        "id": "kuDY2CnmdzoJ"
      },
      "source": [
        "#### 25. Given a 1D array, negate all elements which are between 3 and 8, in place. (★☆☆) \n",
        "(**hint**: >, <=)"
      ]
    },
    {
      "cell_type": "code",
      "execution_count": null,
      "metadata": {
        "id": "6uAv2xsldzoJ",
        "colab": {
          "base_uri": "https://localhost:8080/"
        },
        "outputId": "30fe2c8e-890b-4f20-e41e-31653aaa04be"
      },
      "outputs": [
        {
          "output_type": "stream",
          "name": "stdout",
          "text": [
            "[ 0  1  2  3 -4 -5 -6 -7 -8  9 10]\n"
          ]
        }
      ],
      "source": [
        "Z = np.arange(11)\n",
        "Z[(Z>3)&(Z<=8)]*=-1\n",
        "print(Z)"
      ]
    },
    {
      "cell_type": "markdown",
      "metadata": {
        "id": "1Tjb1ZFCdzoJ"
      },
      "source": [
        "#### 26. What is the output of the following script? (★☆☆) \n",
        "(**hint**: np.sum)"
      ]
    },
    {
      "cell_type": "markdown",
      "metadata": {
        "id": "hQGz7JludzoJ"
      },
      "source": [
        "```python\n",
        "# Author: Jake VanderPlas\n",
        "\n",
        "print(sum(range(5),-1))\n",
        "from numpy import *\n",
        "print(sum(range(5),-1))\n",
        "```"
      ]
    },
    {
      "cell_type": "code",
      "execution_count": null,
      "metadata": {
        "id": "ZzRVn-OtdzoJ",
        "colab": {
          "base_uri": "https://localhost:8080/"
        },
        "outputId": "34f06bbb-4984-4d34-854b-0db43aae4c42"
      },
      "outputs": [
        {
          "output_type": "stream",
          "name": "stdout",
          "text": [
            "9\n",
            "10\n"
          ]
        }
      ],
      "source": [
        "print(sum(range(5),-1))\n",
        "from numpy import *\n",
        "print(sum(range(5),-1))"
      ]
    },
    {
      "cell_type": "markdown",
      "metadata": {
        "id": "DBOHowEDdzoJ"
      },
      "source": [
        "#### 27. Consider an integer vector Z, which of these expressions are legal? (★☆☆)"
      ]
    },
    {
      "cell_type": "markdown",
      "metadata": {
        "id": "loKfAEP5dzoJ"
      },
      "source": [
        "```python\n",
        "Z**Z\n",
        "2 << Z >> 2\n",
        "Z <- Z\n",
        "1j*Z\n",
        "Z/1/1\n",
        "Z<Z>Z\n",
        "```"
      ]
    },
    {
      "cell_type": "code",
      "execution_count": null,
      "metadata": {
        "id": "tpgo12ljdzoK",
        "colab": {
          "base_uri": "https://localhost:8080/"
        },
        "outputId": "83c3d320-471c-4424-e19a-130f577aaf8b"
      },
      "outputs": [
        {
          "output_type": "stream",
          "name": "stdout",
          "text": [
            "[1 1 4]\n",
            "[0 1 2]\n",
            "[False False False]\n",
            "[0.+0.j 0.+1.j 0.+2.j]\n",
            "[0. 1. 2.]\n"
          ]
        }
      ],
      "source": [
        "Z = np.arange(3)\n",
        "print(Z**Z)\n",
        "print(2 << Z >> 2)\n",
        "print(Z <- Z)\n",
        "print(1j*Z)\n",
        "print(Z/1/1)\n",
        "#print(Z<Z>Z) = error\n"
      ]
    },
    {
      "cell_type": "markdown",
      "metadata": {
        "id": "IZJctqd2dzoK"
      },
      "source": [
        "#### 28. What are the result of the following expressions?"
      ]
    },
    {
      "cell_type": "markdown",
      "metadata": {
        "id": "7OZqckOpdzoK"
      },
      "source": [
        "```python\n",
        "np.array(0) / np.array(0)\n",
        "np.array(0) // np.array(0)\n",
        "np.array([np.nan]).astype(int).astype(float)\n",
        "```"
      ]
    },
    {
      "cell_type": "code",
      "execution_count": null,
      "metadata": {
        "id": "zuI5RsXwdzoK",
        "colab": {
          "base_uri": "https://localhost:8080/"
        },
        "outputId": "73649dc9-e4d4-4a1c-ad91-3c07bf6e0382"
      },
      "outputs": [
        {
          "output_type": "stream",
          "name": "stdout",
          "text": [
            "nan\n",
            "0\n",
            "[-9.22337204e+18]\n"
          ]
        },
        {
          "output_type": "stream",
          "name": "stderr",
          "text": [
            "/usr/local/lib/python3.7/dist-packages/ipykernel_launcher.py:1: RuntimeWarning: invalid value encountered in true_divide\n",
            "  \"\"\"Entry point for launching an IPython kernel.\n",
            "/usr/local/lib/python3.7/dist-packages/ipykernel_launcher.py:2: RuntimeWarning: divide by zero encountered in floor_divide\n",
            "  \n"
          ]
        }
      ],
      "source": [
        "print(np.array(0) / np.array(0))\n",
        "print(np.array(0) // np.array(0))\n",
        "print(np.array([np.nan]).astype(int).astype(float))\n"
      ]
    },
    {
      "cell_type": "markdown",
      "metadata": {
        "id": "m8qyhpCpdzoK"
      },
      "source": [
        "#### 29. How to round away from zero a float array ? (★☆☆) \n",
        "(**hint**: np.uniform, np.copysign, np.ceil, np.abs)"
      ]
    },
    {
      "cell_type": "code",
      "execution_count": null,
      "metadata": {
        "id": "PnuVZVS0dzoK",
        "colab": {
          "base_uri": "https://localhost:8080/"
        },
        "outputId": "3b022654-23f5-494e-dcc5-bbcbb8ba463d"
      },
      "outputs": [
        {
          "output_type": "stream",
          "name": "stdout",
          "text": [
            "[-3.77359228  2.67620651  8.18849347 -6.16153413  2.38835014  5.66681445\n",
            " -5.30705386 -4.48062169  2.79062879 -7.60291054]\n",
            "[-4.  3.  9. -7.  3.  6. -6. -5.  3. -8.]\n"
          ]
        }
      ],
      "source": [
        "#def round_array(x,y):\n",
        "  #return np.round(x,y)\n",
        "#test = np.array([32.115, 51.5, 0.112])\n",
        "#print(round_array(test,0))\n",
        "Z = np.random.uniform(-10,+10,10)\n",
        "print(Z)\n",
        "print (np.copysign(np.ceil(np.abs(Z)), Z))"
      ]
    },
    {
      "cell_type": "markdown",
      "metadata": {
        "id": "9o5D81vUdzoK"
      },
      "source": [
        "#### 30. How to find common values between two arrays? (★☆☆) \n",
        "(**hint**: np.intersect1d)"
      ]
    },
    {
      "cell_type": "code",
      "execution_count": null,
      "metadata": {
        "id": "iftFXE03dzoK",
        "colab": {
          "base_uri": "https://localhost:8080/"
        },
        "outputId": "84a3f58e-1a1d-47cf-8561-3c4bab04fa89"
      },
      "outputs": [
        {
          "output_type": "stream",
          "name": "stdout",
          "text": [
            "[0 2 5 9]\n"
          ]
        }
      ],
      "source": [
        "X1 = np.random.randint(0,10,10)\n",
        "X2 = np.random.randint(0,10,10)\n",
        "Z = np.intersect1d(X1,X2)\n",
        "print(Z)"
      ]
    },
    {
      "cell_type": "markdown",
      "metadata": {
        "id": "2NJhJbaPdzoK"
      },
      "source": [
        "#### 31. How to ignore all numpy warnings (not recommended)? (★☆☆) \n",
        "(**hint**: np.seterr, np.errstate)"
      ]
    },
    {
      "cell_type": "code",
      "execution_count": null,
      "metadata": {
        "id": "RmiH6hbMdzoK",
        "colab": {
          "base_uri": "https://localhost:8080/"
        },
        "outputId": "8f3dec0c-788b-4e9b-dc53-3404bbb10a4e"
      },
      "outputs": [
        {
          "output_type": "execute_result",
          "data": {
            "text/plain": [
              "array([nan, nan, nan, nan, nan, nan, nan, nan, nan, nan])"
            ]
          },
          "metadata": {},
          "execution_count": 15
        }
      ],
      "source": [
        "data = np.random.random(1000).reshape(10, 10,10) * np.nan\n",
        "np.seterr(all=\"ignore\")\n",
        "np.nanmedian(data, axis=[1, 2])"
      ]
    },
    {
      "cell_type": "markdown",
      "metadata": {
        "id": "ttsC593GdzoK"
      },
      "source": [
        "#### 32. Is the following expressions true? (★☆☆) \n",
        "(**hint**: imaginary number)"
      ]
    },
    {
      "cell_type": "markdown",
      "metadata": {
        "id": "a1njo0BwdzoK"
      },
      "source": [
        "```python\n",
        "np.sqrt(-1) == np.emath.sqrt(-1)\n",
        "```"
      ]
    },
    {
      "cell_type": "code",
      "execution_count": null,
      "metadata": {
        "id": "biA1xUamdzoK",
        "colab": {
          "base_uri": "https://localhost:8080/"
        },
        "outputId": "8aa972f2-8cd4-4ae6-be50-a1c0d35fb381"
      },
      "outputs": [
        {
          "output_type": "stream",
          "name": "stdout",
          "text": [
            "False\n"
          ]
        },
        {
          "output_type": "stream",
          "name": "stderr",
          "text": [
            "/usr/local/lib/python3.7/dist-packages/ipykernel_launcher.py:1: RuntimeWarning: invalid value encountered in sqrt\n",
            "  \"\"\"Entry point for launching an IPython kernel.\n"
          ]
        }
      ],
      "source": [
        "print(np.sqrt(-1) == np.emath.sqrt(-1))"
      ]
    },
    {
      "cell_type": "markdown",
      "metadata": {
        "id": "dVdvT2L4dzoK"
      },
      "source": [
        "#### 33. How to get the dates of yesterday, today and tomorrow? (★☆☆) \n",
        "(**hint**: np.datetime64, np.timedelta64)"
      ]
    },
    {
      "cell_type": "code",
      "execution_count": null,
      "metadata": {
        "collapsed": true,
        "id": "HRxvczXTdzoL",
        "colab": {
          "base_uri": "https://localhost:8080/"
        },
        "outputId": "233d2523-24c0-49f9-ae7d-d831dd94543f"
      },
      "outputs": [
        {
          "output_type": "stream",
          "name": "stdout",
          "text": [
            "2022-11-04\n",
            "2022-11-05\n",
            "2022-11-06\n"
          ]
        }
      ],
      "source": [
        "yesterday =  print(np.datetime64('today','D') - np.timedelta64(1,'D'))\n",
        "today = print(np.datetime64('today','D'))\n",
        "tomorrow = print(np.datetime64('today','D') + np.timedelta64(1,'D'))"
      ]
    },
    {
      "cell_type": "markdown",
      "metadata": {
        "id": "mNkbdPaWdzoL"
      },
      "source": [
        "#### 34. How to get all the dates corresponding to the month of July 2016? (★★☆) \n",
        "(**hint**: np.arange(dtype=datetime64\\['D'\\]))"
      ]
    },
    {
      "cell_type": "code",
      "execution_count": null,
      "metadata": {
        "id": "dqoTv6z2dzoL",
        "colab": {
          "base_uri": "https://localhost:8080/"
        },
        "outputId": "3a3b54fe-de66-4787-c43c-eba93e34ffde"
      },
      "outputs": [
        {
          "output_type": "stream",
          "name": "stdout",
          "text": [
            "['2016-07-01' '2016-07-02' '2016-07-03' '2016-07-04' '2016-07-05'\n",
            " '2016-07-06' '2016-07-07' '2016-07-08' '2016-07-09' '2016-07-10'\n",
            " '2016-07-11' '2016-07-12' '2016-07-13' '2016-07-14' '2016-07-15'\n",
            " '2016-07-16' '2016-07-17' '2016-07-18' '2016-07-19' '2016-07-20'\n",
            " '2016-07-21' '2016-07-22' '2016-07-23' '2016-07-24' '2016-07-25'\n",
            " '2016-07-26' '2016-07-27' '2016-07-28' '2016-07-29' '2016-07-30'\n",
            " '2016-07-31']\n"
          ]
        }
      ],
      "source": [
        "Z = np.arange('2016-07','2016-08',dtype = 'datetime64[D]')\n",
        "print(Z)"
      ]
    },
    {
      "cell_type": "markdown",
      "metadata": {
        "id": "trMltTBIdzoL"
      },
      "source": [
        "#### 35. How to compute ((A+B)\\*(-A/2)) in place (without copy)? (★★☆) \n",
        "(**hint**: np.add(out=), np.negative(out=), np.multiply(out=), np.divide(out=))"
      ]
    },
    {
      "cell_type": "code",
      "execution_count": null,
      "metadata": {
        "id": "HyL0L17UdzoL",
        "colab": {
          "base_uri": "https://localhost:8080/"
        },
        "outputId": "f6708561-d030-465e-f48d-3ac2564f4638"
      },
      "outputs": [
        {
          "output_type": "execute_result",
          "data": {
            "text/plain": [
              "array([-1.5, -1.5, -1.5])"
            ]
          },
          "metadata": {},
          "execution_count": 34
        }
      ],
      "source": [
        "A = np.ones(3)*1\n",
        "B = np.ones(3)*2\n",
        "np.add(A,B,out = B)\n",
        "np.divide(A,2,out=A)\n",
        "np.negative(A,out=A)\n",
        "np.multiply(A,B,out=A)"
      ]
    },
    {
      "cell_type": "markdown",
      "metadata": {
        "id": "F4iYe888dzoL"
      },
      "source": [
        "#### 36. Extract the integer part of a random array using 5 different methods (★★☆) \n",
        "(**hint**: %, np.floor, np.ceil, astype, np.trunc)"
      ]
    },
    {
      "cell_type": "code",
      "execution_count": null,
      "metadata": {
        "id": "cNHt6fKrdzoL",
        "colab": {
          "base_uri": "https://localhost:8080/"
        },
        "outputId": "d696727c-fc15-4d80-f257-39664a1fe07a"
      },
      "outputs": [
        {
          "output_type": "stream",
          "name": "stdout",
          "text": [
            "[4 7 5 7 0 1 6 0 6 1]\n",
            "[4. 7. 5. 7. 0. 1. 6. 0. 6. 1.]\n",
            "[ 0.  1.  2.  3.  4.  5.  6.  7.  8.  9. 10. 11. 12. 13. 14. 15. 16. 17.\n",
            " 18. 19. 20. 21. 22. 23. 24. 25. 26. 27. 28. 29. 30. 31. 32. 33. 34. 35.\n",
            " 36. 37. 38. 39. 40. 41. 42. 43. 44. 45. 46. 47. 48.]\n",
            "[4 7 5 7 0 1 6 0 6 1]\n",
            "\n"
          ]
        }
      ],
      "source": [
        "Z = np.random.randint(0,10,10)\n",
        "print(Z-Z%1)\n",
        "print(np.floor(Z))\n",
        "print(np.ceil(z)-1)\n",
        "print(Z.astype(int))\n",
        "print()"
      ]
    },
    {
      "cell_type": "markdown",
      "metadata": {
        "id": "ywRAEyX4dzoL"
      },
      "source": [
        "#### 37. Create a 5x5 matrix with row values ranging from 0 to 4 (★★☆) \n",
        "(**hint**: np.arange)"
      ]
    },
    {
      "cell_type": "code",
      "execution_count": null,
      "metadata": {
        "id": "NIcKc1LTdzoL",
        "colab": {
          "base_uri": "https://localhost:8080/"
        },
        "outputId": "4d630c80-0b73-4dce-f498-ea05fc1b3f83"
      },
      "outputs": [
        {
          "output_type": "stream",
          "name": "stdout",
          "text": [
            "[[0. 1. 2. 3. 4.]\n",
            " [0. 1. 2. 3. 4.]\n",
            " [0. 1. 2. 3. 4.]\n",
            " [0. 1. 2. 3. 4.]\n",
            " [0. 1. 2. 3. 4.]]\n"
          ]
        }
      ],
      "source": [
        "x = np.zeros((5,5))\n",
        "x+=np.arange(5)\n",
        "print(x)"
      ]
    },
    {
      "cell_type": "markdown",
      "metadata": {
        "id": "99hAm6VJdzoL"
      },
      "source": [
        "#### 38. Consider a generator function that generates 10 integers and use it to build an array (★☆☆) \n",
        "(**hint**: np.fromiter)"
      ]
    },
    {
      "cell_type": "code",
      "execution_count": null,
      "metadata": {
        "id": "Kj-Ygr_1dzoL",
        "colab": {
          "base_uri": "https://localhost:8080/"
        },
        "outputId": "5c78e585-b42f-4e04-fb99-ec4f64554f4c"
      },
      "outputs": [
        {
          "output_type": "stream",
          "name": "stdout",
          "text": [
            "[0. 1. 2. 3. 4. 5. 6. 7. 8. 9.]\n"
          ]
        }
      ],
      "source": [
        "def generate():\n",
        "    for x in range(10):\n",
        "        yield x\n",
        "arr = np.fromiter(generate(), dtype=float, count=-1)\n",
        "print(arr)"
      ]
    },
    {
      "cell_type": "markdown",
      "metadata": {
        "id": "O3ksJ56AdzoL"
      },
      "source": [
        "#### 39. Create a vector of size 10 with values ranging from 0 to 1, both excluded (★★☆) \n",
        "(**hint**: np.linspace)"
      ]
    },
    {
      "cell_type": "code",
      "execution_count": null,
      "metadata": {
        "id": "YHwRO-n1dzoM",
        "colab": {
          "base_uri": "https://localhost:8080/"
        },
        "outputId": "be2f4dff-84c9-4af2-cbbf-dfbe5c67e003"
      },
      "outputs": [
        {
          "output_type": "execute_result",
          "data": {
            "text/plain": [
              "array([0.09090909, 0.18181818, 0.27272727, 0.36363636, 0.45454545,\n",
              "       0.54545455, 0.63636364, 0.72727273, 0.81818182, 0.90909091])"
            ]
          },
          "metadata": {},
          "execution_count": 38
        }
      ],
      "source": [
        "arr = np.linspace(0,1,11,endpoint=False)[1:]\n",
        "arr"
      ]
    },
    {
      "cell_type": "markdown",
      "metadata": {
        "id": "2NxUKC8edzoM"
      },
      "source": [
        "#### 40. Create a random vector of size 10 and sort it (★★☆) \n",
        "(**hint**: sort)"
      ]
    },
    {
      "cell_type": "code",
      "execution_count": null,
      "metadata": {
        "id": "FSCsqhJVdzoM",
        "colab": {
          "base_uri": "https://localhost:8080/"
        },
        "outputId": "95ebe5cc-4ba6-49f2-e715-785bcff07a6d"
      },
      "outputs": [
        {
          "output_type": "execute_result",
          "data": {
            "text/plain": [
              "array([0.00182674, 0.08877367, 0.27652588, 0.3804509 , 0.44427808,\n",
              "       0.58823243, 0.64345659, 0.64543739, 0.72298464, 0.80117329])"
            ]
          },
          "metadata": {},
          "execution_count": 39
        }
      ],
      "source": [
        "arr = np.random.random(10)\n",
        "arr.sort()\n",
        "arr"
      ]
    },
    {
      "cell_type": "markdown",
      "metadata": {
        "id": "KOCGBZbTdzoM"
      },
      "source": [
        "#### 41. How to sum a small array faster than np.sum? (★★☆) \n",
        "(**hint**: np.add.reduce)"
      ]
    },
    {
      "cell_type": "code",
      "execution_count": null,
      "metadata": {
        "id": "OoeLlrvddzoM",
        "colab": {
          "base_uri": "https://localhost:8080/"
        },
        "outputId": "b322de1f-db7b-4be4-e348-6a6ddbf32324"
      },
      "outputs": [
        {
          "output_type": "execute_result",
          "data": {
            "text/plain": [
              "15"
            ]
          },
          "metadata": {},
          "execution_count": 40
        }
      ],
      "source": [
        "arr = np.arange(6)\n",
        "np.add.reduce(arr)"
      ]
    },
    {
      "cell_type": "markdown",
      "metadata": {
        "id": "ZDI8LCBGdzoM"
      },
      "source": [
        "#### 42. Consider two random array A and B, check if they are equal (★★☆) \n",
        "(**hint**: np.allclose, np.array\\_equal)"
      ]
    },
    {
      "cell_type": "code",
      "execution_count": null,
      "metadata": {
        "id": "39oyX6W9dzoM",
        "colab": {
          "base_uri": "https://localhost:8080/"
        },
        "outputId": "e4409e92-49e6-4007-e7d0-a59fed561044"
      },
      "outputs": [
        {
          "output_type": "stream",
          "name": "stdout",
          "text": [
            "False\n"
          ]
        }
      ],
      "source": [
        "A = np.random.randint(0,8,10)\n",
        "B = np.random.randint(0,8,10)\n",
        "equal = np.array_equal(A,B)\n",
        "print(equal)"
      ]
    },
    {
      "cell_type": "markdown",
      "metadata": {
        "id": "NT0D2IH3dzoM"
      },
      "source": [
        "#### 43. Make an array immutable (read-only) (★★☆) \n",
        "(**hint**: flags.writeable)"
      ]
    },
    {
      "cell_type": "code",
      "execution_count": null,
      "metadata": {
        "id": "fhu4_PWHdzoM",
        "colab": {
          "base_uri": "https://localhost:8080/",
          "height": 200
        },
        "outputId": "322188f6-f8c4-4b4c-a625-ac7b5a0170d0"
      },
      "outputs": [
        {
          "output_type": "error",
          "ename": "ValueError",
          "evalue": "ignored",
          "traceback": [
            "\u001b[0;31m---------------------------------------------------------------------------\u001b[0m",
            "\u001b[0;31mValueError\u001b[0m                                Traceback (most recent call last)",
            "\u001b[0;32m<ipython-input-43-3a82fa6b2025>\u001b[0m in \u001b[0;36m<module>\u001b[0;34m\u001b[0m\n\u001b[1;32m      1\u001b[0m \u001b[0marr\u001b[0m \u001b[0;34m=\u001b[0m \u001b[0mnp\u001b[0m\u001b[0;34m.\u001b[0m\u001b[0mones\u001b[0m\u001b[0;34m(\u001b[0m\u001b[0;36m6\u001b[0m\u001b[0;34m)\u001b[0m\u001b[0;34m\u001b[0m\u001b[0;34m\u001b[0m\u001b[0m\n\u001b[1;32m      2\u001b[0m \u001b[0marr\u001b[0m\u001b[0;34m.\u001b[0m\u001b[0mflags\u001b[0m\u001b[0;34m.\u001b[0m\u001b[0mwriteable\u001b[0m \u001b[0;34m=\u001b[0m \u001b[0;32mFalse\u001b[0m\u001b[0;34m\u001b[0m\u001b[0;34m\u001b[0m\u001b[0m\n\u001b[0;32m----> 3\u001b[0;31m \u001b[0marr\u001b[0m\u001b[0;34m[\u001b[0m\u001b[0;36m0\u001b[0m\u001b[0;34m]\u001b[0m \u001b[0;34m=\u001b[0m \u001b[0;36m0\u001b[0m\u001b[0;34m\u001b[0m\u001b[0;34m\u001b[0m\u001b[0m\n\u001b[0m",
            "\u001b[0;31mValueError\u001b[0m: assignment destination is read-only"
          ]
        }
      ],
      "source": [
        "arr = np.ones(6)\n",
        "arr.flags.writeable = False\n",
        "arr[0] = 0"
      ]
    },
    {
      "cell_type": "markdown",
      "metadata": {
        "id": "CQs2HNFWdzoM"
      },
      "source": [
        "#### 44. Consider a random 10x2 matrix representing cartesian coordinates, convert them to polar coordinates (★★☆) \n",
        "(**hint**: np.sqrt, np.arctan2)"
      ]
    },
    {
      "cell_type": "code",
      "execution_count": null,
      "metadata": {
        "id": "wpBKwzdBdzoM",
        "colab": {
          "base_uri": "https://localhost:8080/"
        },
        "outputId": "8b47e46d-4a5f-4150-ed4c-329e811cb8a9"
      },
      "outputs": [
        {
          "output_type": "stream",
          "name": "stdout",
          "text": [
            "[0.75700195 0.94436518 0.84770764 1.35746029 0.39545383 0.69458793\n",
            " 0.54950435 0.9395515  0.83450158 0.57690125]\n",
            "[0.03898371 0.68242913 1.41740672 0.82649895 0.53455896 1.33843933\n",
            " 0.96963555 1.22483945 0.67277712 1.26989614]\n"
          ]
        }
      ],
      "source": [
        "y = np.random.random((10,2))\n",
        "a = y[:,0]\n",
        "b = y[:,1]\n",
        "R = np.sqrt(a**2+b**2)\n",
        "T = np.arctan2(b,a)\n",
        "print(R)\n",
        "print(T)"
      ]
    },
    {
      "cell_type": "markdown",
      "metadata": {
        "id": "8DWCHRR0dzoN"
      },
      "source": [
        "#### 45. Create random vector of size 10 and replace the maximum value by 0 (★★☆) \n",
        "(**hint**: argmax)"
      ]
    },
    {
      "cell_type": "code",
      "execution_count": null,
      "metadata": {
        "id": "Cwo0Fa7edzoN",
        "colab": {
          "base_uri": "https://localhost:8080/"
        },
        "outputId": "a78d5239-f832-4726-fd46-8594d7b9c416"
      },
      "outputs": [
        {
          "output_type": "stream",
          "name": "stdout",
          "text": [
            "[0.86144739 0.22457023 0.         0.02071024 0.78906461 0.29482547\n",
            " 0.22578908 0.96870199 0.21515807 0.69279046]\n"
          ]
        }
      ],
      "source": [
        "arr = np.random.random(10)\n",
        "arr[arr.argmax()] = 0\n",
        "print(arr)"
      ]
    },
    {
      "cell_type": "markdown",
      "metadata": {
        "id": "r16n6o9kdzoN"
      },
      "source": [
        "#### 46. Create a structured array with `x` and `y` coordinates covering the \\[0,1\\]x\\[0,1\\] area (★★☆) \n",
        "(**hint**: np.meshgrid)"
      ]
    },
    {
      "cell_type": "code",
      "execution_count": null,
      "metadata": {
        "id": "QY2CeOVQdzoN",
        "colab": {
          "base_uri": "https://localhost:8080/"
        },
        "outputId": "630b54c5-73d5-40eb-8de2-c241993c9d6e"
      },
      "outputs": [
        {
          "output_type": "stream",
          "name": "stdout",
          "text": [
            "[[(0.  , 0.  ) (0.25, 0.  ) (0.5 , 0.  ) (0.75, 0.  ) (1.  , 0.  )]\n",
            " [(0.  , 0.25) (0.25, 0.25) (0.5 , 0.25) (0.75, 0.25) (1.  , 0.25)]\n",
            " [(0.  , 0.5 ) (0.25, 0.5 ) (0.5 , 0.5 ) (0.75, 0.5 ) (1.  , 0.5 )]\n",
            " [(0.  , 0.75) (0.25, 0.75) (0.5 , 0.75) (0.75, 0.75) (1.  , 0.75)]\n",
            " [(0.  , 1.  ) (0.25, 1.  ) (0.5 , 1.  ) (0.75, 1.  ) (1.  , 1.  )]]\n"
          ]
        }
      ],
      "source": [
        "arr = np.zeros((5,5), [('x',float),('y',float)])\n",
        "arr['x'], arr['y'] = np.meshgrid(np.linspace(0,1,5),\n",
        "                             np.linspace(0,1,5))\n",
        "print(arr)"
      ]
    },
    {
      "cell_type": "markdown",
      "metadata": {
        "id": "QnmVHfWQdzoN"
      },
      "source": [
        "####  47. Given two arrays, X and Y, construct the Cauchy matrix C (Cij =1/(xi - yj)) \n",
        "(**hint**: np.subtract.outer)"
      ]
    },
    {
      "cell_type": "code",
      "execution_count": null,
      "metadata": {
        "id": "jYBsESbNdzoN",
        "colab": {
          "base_uri": "https://localhost:8080/"
        },
        "outputId": "d77dcd83-7e60-4e70-904c-9e9fdc4e2ff6"
      },
      "outputs": [
        {
          "output_type": "stream",
          "name": "stdout",
          "text": [
            "3638.163637117973\n"
          ]
        }
      ],
      "source": [
        "X = np.arange(8)\n",
        "Y = X + 0.5\n",
        "C = 1.0 / np.subtract.outer(X, Y)\n",
        "print(np.linalg.det(C))"
      ]
    },
    {
      "cell_type": "markdown",
      "metadata": {
        "id": "dNy6mjPKdzoN"
      },
      "source": [
        "#### 48. Print the minimum and maximum representable value for each numpy scalar type (★★☆) \n",
        "(**hint**: np.iinfo, np.finfo, eps)"
      ]
    },
    {
      "cell_type": "code",
      "execution_count": null,
      "metadata": {
        "id": "RjtzkRHwdzoN",
        "colab": {
          "base_uri": "https://localhost:8080/"
        },
        "outputId": "73bee6e9-994c-40ac-f2e1-0981a4837a37"
      },
      "outputs": [
        {
          "output_type": "stream",
          "name": "stdout",
          "text": [
            "-128\n",
            "127\n",
            "-2147483648\n",
            "2147483647\n",
            "-9223372036854775808\n",
            "9223372036854775807\n",
            "-3.4028235e+38\n",
            "3.4028235e+38\n",
            "1.1920929e-07\n",
            "-1.7976931348623157e+308\n",
            "1.7976931348623157e+308\n",
            "2.220446049250313e-16\n"
          ]
        }
      ],
      "source": [
        "for dtype in [np.int8, np.int32, np.int64]:\n",
        "    print(np.iinfo(dtype).min)\n",
        "    print(np.iinfo(dtype).max)\n",
        "for dtype in [np.float32, np.float64]:\n",
        "    print(np.finfo(dtype).min)\n",
        "    print(np.finfo(dtype).max)\n",
        "    print(np.finfo(dtype).eps)"
      ]
    },
    {
      "cell_type": "markdown",
      "metadata": {
        "id": "63iyPCIBdzoN"
      },
      "source": [
        "#### 49. How to print all the values of an array? (★★☆) \n",
        "(**hint**: np.set\\_printoptions)"
      ]
    },
    {
      "cell_type": "code",
      "execution_count": null,
      "metadata": {
        "id": "nu3yl2SIdzoN",
        "colab": {
          "base_uri": "https://localhost:8080/"
        },
        "outputId": "5c6321e2-cf21-4c4a-d1b9-df981330b84d"
      },
      "outputs": [
        {
          "output_type": "stream",
          "name": "stdout",
          "text": [
            "[[0. 0. 0. 0. 0. 0.]\n",
            " [0. 0. 0. 0. 0. 0.]\n",
            " [0. 0. 0. 0. 0. 0.]\n",
            " [0. 0. 0. 0. 0. 0.]]\n"
          ]
        }
      ],
      "source": [
        "np.set_printoptions(threshold=float(\"inf\"))\n",
        "arr = np.zeros((4,6))\n",
        "print(arr)"
      ]
    },
    {
      "cell_type": "markdown",
      "metadata": {
        "id": "K5cQcxchdzoN"
      },
      "source": [
        "#### 50. How to find the closest value (to a given scalar) in a vector? (★★☆) \n",
        "(**hint**: argmin)"
      ]
    },
    {
      "cell_type": "code",
      "execution_count": null,
      "metadata": {
        "id": "aH-P_gYLdzoN",
        "colab": {
          "base_uri": "https://localhost:8080/"
        },
        "outputId": "6682eaee-92a8-4289-e40c-6df7df77f44e"
      },
      "outputs": [
        {
          "output_type": "stream",
          "name": "stdout",
          "text": [
            "60\n"
          ]
        }
      ],
      "source": [
        "arr = np.arange(100)\n",
        "v = np.random.uniform(0,100)\n",
        "index = (np.abs(arr-v)).argmin()\n",
        "print(arr[index])"
      ]
    },
    {
      "cell_type": "markdown",
      "metadata": {
        "id": "IdZi9_G1dzoO"
      },
      "source": [
        "#### 51. Create a structured array representing a position (x,y) and a color (r,g,b) (★★☆) \n",
        "(**hint**: dtype)"
      ]
    },
    {
      "cell_type": "code",
      "execution_count": null,
      "metadata": {
        "id": "TA4FqRlZdzoO",
        "colab": {
          "base_uri": "https://localhost:8080/"
        },
        "outputId": "6b045c2e-14a5-4fde-c528-525bd8de63ad"
      },
      "outputs": [
        {
          "output_type": "stream",
          "name": "stdout",
          "text": [
            "[((0., 0.), (0., 0., 0.)) ((0., 0.), (0., 0., 0.))\n",
            " ((0., 0.), (0., 0., 0.)) ((0., 0.), (0., 0., 0.))\n",
            " ((0., 0.), (0., 0., 0.)) ((0., 0.), (0., 0., 0.))]\n"
          ]
        },
        {
          "output_type": "stream",
          "name": "stderr",
          "text": [
            "/usr/local/lib/python3.7/dist-packages/ipykernel_launcher.py:1: FutureWarning: Passing (type, 1) or '1type' as a synonym of type is deprecated; in a future version of numpy, it will be understood as (type, (1,)) / '(1,)type'.\n",
            "  \"\"\"Entry point for launching an IPython kernel.\n"
          ]
        }
      ],
      "source": [
        "arr = np.zeros(6,[('postion',[('x',float,1),('y',float,1)]),('color',[('r', float, 1),('g', float, 1),('b', float, 1)])])\n",
        "print(arr)"
      ]
    },
    {
      "cell_type": "markdown",
      "metadata": {
        "id": "B1PKjhbHdzoO"
      },
      "source": [
        "#### 52. Consider a random vector with shape (100,2) representing coordinates, find point by point distances (★★☆) \n",
        "(**hint**: np.atleast\\_2d, T, np.sqrt)"
      ]
    },
    {
      "cell_type": "code",
      "execution_count": null,
      "metadata": {
        "id": "0qCLzAqUdzoO",
        "colab": {
          "base_uri": "https://localhost:8080/"
        },
        "outputId": "f43f4b75-1692-4d5e-8e5e-55e305f637a9"
      },
      "outputs": [
        {
          "output_type": "stream",
          "name": "stdout",
          "text": [
            "[[0.         0.54297666 0.31088246 0.43769219 0.28910128 0.19385736\n",
            "  0.79642246 0.52337207 0.68885927 0.6258706 ]\n",
            " [0.54297666 0.         0.77425221 0.10652206 0.56354131 0.70145593\n",
            "  0.25477694 0.53069706 0.47558302 0.09313407]\n",
            " [0.31088246 0.77425221 0.         0.66983282 0.25055677 0.12658733\n",
            "  1.01012598 0.50062612 0.72856356 0.86590052]\n",
            " [0.43769219 0.10652206 0.66983282 0.         0.46680419 0.59505699\n",
            "  0.35874981 0.47016786 0.46338469 0.1961877 ]\n",
            " [0.28910128 0.56354131 0.25055677 0.46680419 0.         0.25678719\n",
            "  0.78157364 0.26769957 0.4831125  0.65666471]\n",
            " [0.19385736 0.70145593 0.12658733 0.59505699 0.25678719 0.\n",
            "  0.94756286 0.52446134 0.73446754 0.79014382]\n",
            " [0.79642246 0.25477694 1.01012598 0.35874981 0.78157364 0.94756286\n",
            "  0.         0.67747409 0.53187935 0.18809275]\n",
            " [0.52337207 0.53069706 0.50062612 0.47016786 0.26769957 0.52446134\n",
            "  0.67747409 0.         0.23682187 0.61378112]\n",
            " [0.68885927 0.47558302 0.72856356 0.46338469 0.4831125  0.73446754\n",
            "  0.53187935 0.23682187 0.         0.53381463]\n",
            " [0.6258706  0.09313407 0.86590052 0.1961877  0.65666471 0.79014382\n",
            "  0.18809275 0.61378112 0.53381463 0.        ]]\n"
          ]
        }
      ],
      "source": [
        "arr = np.random.random((10,2))\n",
        "X,Y = np.atleast_2d(arr[:,0], arr[:,1])\n",
        "D = np.sqrt( (X-X.T)**2 + (Y-Y.T)**2)\n",
        "print(D)"
      ]
    },
    {
      "cell_type": "markdown",
      "metadata": {
        "id": "Zo9sU9QWdzoO"
      },
      "source": [
        "#### 53. How to convert a float (32 bits) array into an integer (32 bits) in place? \n",
        "(**hint**: astype(copy=False))"
      ]
    },
    {
      "cell_type": "code",
      "execution_count": null,
      "metadata": {
        "id": "Kuh8EmP-dzoO",
        "colab": {
          "base_uri": "https://localhost:8080/"
        },
        "outputId": "4f96a061-83ca-4559-cfce-6063d839cbe3"
      },
      "outputs": [
        {
          "output_type": "stream",
          "name": "stdout",
          "text": [
            "[77 73 50 79 34 31 41 51 80 59]\n"
          ]
        }
      ],
      "source": [
        "arr = (np.random.rand(10)*100).astype(np.float32)\n",
        "Y = arr.view(np.int32)\n",
        "Y[:] = arr\n",
        "print(Y)"
      ]
    },
    {
      "cell_type": "markdown",
      "metadata": {
        "id": "ZsH3fGOOdzoO"
      },
      "source": [
        "#### 54. How to read the following file? (★★☆) \n",
        "(**hint**: np.genfromtxt)"
      ]
    },
    {
      "cell_type": "markdown",
      "metadata": {
        "id": "fBtquaZQdzoO"
      },
      "source": [
        "```\n",
        "1, 2, 3, 4, 5\n",
        "6,  ,  , 7, 8\n",
        " ,  , 9,10,11\n",
        "```"
      ]
    },
    {
      "cell_type": "code",
      "execution_count": null,
      "metadata": {
        "id": "VQAlZJWTdzoO",
        "colab": {
          "base_uri": "https://localhost:8080/"
        },
        "outputId": "fd0d5cfb-095c-45d9-bf9e-da0d28a932b7"
      },
      "outputs": [
        {
          "output_type": "stream",
          "name": "stdout",
          "text": [
            "[[ 1  2  3  4  5]\n",
            " [ 6 -1 -1  7  8]\n",
            " [-1 -1  9 10 11]]\n"
          ]
        },
        {
          "output_type": "stream",
          "name": "stderr",
          "text": [
            "/usr/local/lib/python3.7/dist-packages/ipykernel_launcher.py:5: DeprecationWarning: `np.int` is a deprecated alias for the builtin `int`. To silence this warning, use `int` by itself. Doing this will not modify any behavior and is safe. When replacing `np.int`, you may wish to use e.g. `np.int64` or `np.int32` to specify the precision. If you wish to review your current use, check the release note link for additional information.\n",
            "Deprecated in NumPy 1.20; for more details and guidance: https://numpy.org/devdocs/release/1.20.0-notes.html#deprecations\n",
            "  \"\"\"\n"
          ]
        }
      ],
      "source": [
        "from io import StringIO\n",
        "s = StringIO('''1, 2, 3, 4, 5\n",
        "6,  ,  , 7, 8\n",
        " ,  , 9,10,11''')\n",
        "arr = np.genfromtxt(s,delimiter = \",\",dtype =np.int)\n",
        "print(arr)"
      ]
    },
    {
      "cell_type": "markdown",
      "metadata": {
        "id": "Tx1QvdfbdzoO"
      },
      "source": [
        "#### 55. What is the equivalent of enumerate for numpy arrays? (★★☆) \n",
        "(**hint**: np.ndenumerate, np.ndindex)"
      ]
    },
    {
      "cell_type": "code",
      "execution_count": null,
      "metadata": {
        "id": "fxqo2i4edzoO",
        "colab": {
          "base_uri": "https://localhost:8080/"
        },
        "outputId": "52e5e2e5-14ca-40f8-d22a-3e0ba4d3dcc7"
      },
      "outputs": [
        {
          "output_type": "stream",
          "name": "stdout",
          "text": [
            "(0, 0) 0\n",
            "(0, 1) 1\n",
            "(1, 0) 2\n",
            "(1, 1) 3\n",
            "(2, 0) 4\n",
            "(2, 1) 5\n",
            "(0, 0) 0\n",
            "(0, 1) 1\n",
            "(1, 0) 2\n",
            "(1, 1) 3\n",
            "(2, 0) 4\n",
            "(2, 1) 5\n"
          ]
        }
      ],
      "source": [
        "arr = np.arange(6).reshape(3,2)\n",
        "for index,value in np.ndenumerate(arr):\n",
        "  print(index,value)\n",
        "for index in np.ndindex(arr.shape):\n",
        "  print(index,arr[index])"
      ]
    },
    {
      "cell_type": "markdown",
      "metadata": {
        "id": "gFR5w1v7dzoO"
      },
      "source": [
        "#### 56. Generate a generic 2D Gaussian-like array (★★☆) \n",
        "(**hint**: np.meshgrid, np.exp)"
      ]
    },
    {
      "cell_type": "code",
      "execution_count": null,
      "metadata": {
        "id": "ZsQ8rxcbdzoP",
        "colab": {
          "base_uri": "https://localhost:8080/"
        },
        "outputId": "92f51b5a-f044-456b-b948-f4380c00d72d"
      },
      "outputs": [
        {
          "output_type": "stream",
          "name": "stdout",
          "text": [
            "[[0.36787944 0.44822088 0.51979489 0.57375342 0.60279818 0.60279818\n",
            "  0.57375342 0.51979489 0.44822088 0.36787944]\n",
            " [0.44822088 0.54610814 0.63331324 0.69905581 0.73444367 0.73444367\n",
            "  0.69905581 0.63331324 0.54610814 0.44822088]\n",
            " [0.51979489 0.63331324 0.73444367 0.81068432 0.85172308 0.85172308\n",
            "  0.81068432 0.73444367 0.63331324 0.51979489]\n",
            " [0.57375342 0.69905581 0.81068432 0.89483932 0.9401382  0.9401382\n",
            "  0.89483932 0.81068432 0.69905581 0.57375342]\n",
            " [0.60279818 0.73444367 0.85172308 0.9401382  0.98773022 0.98773022\n",
            "  0.9401382  0.85172308 0.73444367 0.60279818]\n",
            " [0.60279818 0.73444367 0.85172308 0.9401382  0.98773022 0.98773022\n",
            "  0.9401382  0.85172308 0.73444367 0.60279818]\n",
            " [0.57375342 0.69905581 0.81068432 0.89483932 0.9401382  0.9401382\n",
            "  0.89483932 0.81068432 0.69905581 0.57375342]\n",
            " [0.51979489 0.63331324 0.73444367 0.81068432 0.85172308 0.85172308\n",
            "  0.81068432 0.73444367 0.63331324 0.51979489]\n",
            " [0.44822088 0.54610814 0.63331324 0.69905581 0.73444367 0.73444367\n",
            "  0.69905581 0.63331324 0.54610814 0.44822088]\n",
            " [0.36787944 0.44822088 0.51979489 0.57375342 0.60279818 0.60279818\n",
            "  0.57375342 0.51979489 0.44822088 0.36787944]]\n"
          ]
        }
      ],
      "source": [
        "x,y = np.meshgrid(np.linspace(-1,1,10), np.linspace(-1,1,10))\n",
        "d = np.sqrt(x*x+y*y)\n",
        "sigma, mu = 1.0, 0.0\n",
        "g = np.exp(-( (d-mu)**2 / ( 2.0 * sigma**2 ) ) )\n",
        "print(g)\n"
      ]
    },
    {
      "cell_type": "markdown",
      "metadata": {
        "id": "DhA38mRQdzoP"
      },
      "source": [
        "#### 57. How to randomly place p elements in a 2D array? (★★☆) \n",
        "(**hint**: np.put, np.random.choice)"
      ]
    },
    {
      "cell_type": "code",
      "execution_count": null,
      "metadata": {
        "id": "AgCGgXm7dzoP",
        "colab": {
          "base_uri": "https://localhost:8080/"
        },
        "outputId": "774c0a1a-dca5-4895-d4ea-356818a48222"
      },
      "outputs": [
        {
          "output_type": "stream",
          "name": "stdout",
          "text": [
            "[[0. 1. 0. 0. 0. 0.]\n",
            " [0. 0. 0. 0. 0. 0.]\n",
            " [0. 0. 0. 1. 0. 0.]\n",
            " [0. 0. 0. 0. 0. 0.]\n",
            " [0. 0. 0. 0. 0. 0.]\n",
            " [0. 0. 0. 0. 0. 0.]]\n"
          ]
        }
      ],
      "source": [
        "n = 6\n",
        "p = 2\n",
        "arr = np.zeros((n,n))\n",
        "np.put(arr, np.random.choice(range(n*n), p, replace=False),1)\n",
        "print(arr)"
      ]
    },
    {
      "cell_type": "markdown",
      "metadata": {
        "id": "p3Uj3D77dzoP"
      },
      "source": [
        "#### 58. Subtract the mean of each row of a matrix (★★☆) \n",
        "(**hint**: mean(axis=,keepdims=))"
      ]
    },
    {
      "cell_type": "code",
      "execution_count": null,
      "metadata": {
        "id": "gUFa1UQxdzoP",
        "colab": {
          "base_uri": "https://localhost:8080/"
        },
        "outputId": "e8fb66f3-dc0a-49d5-e263-d16d05803802"
      },
      "outputs": [
        {
          "output_type": "stream",
          "name": "stdout",
          "text": [
            "[[-0.34710388 -0.2117309  -0.14564077  0.26844608 -0.06612881  0.06653626\n",
            "   0.33223234 -0.04907596  0.27128774 -0.1188221 ]\n",
            " [-0.24570032  0.40251921 -0.34221086  0.44283993  0.03392975 -0.27641713\n",
            "   0.40805752 -0.418578    0.28915008 -0.29359019]\n",
            " [-0.28878731 -0.12101799 -0.0773646   0.42484636 -0.11927802 -0.16038878\n",
            "   0.1089908  -0.01735041 -0.28149944  0.53184937]\n",
            " [ 0.31690325  0.48262047 -0.17107916  0.03594602  0.05060188  0.39086796\n",
            "   0.04271534 -0.46720878 -0.20888456 -0.4724824 ]\n",
            " [ 0.38634319 -0.41168481 -0.34987276  0.47806975  0.43323698 -0.45973773\n",
            "  -0.22671219 -0.2877952   0.00164005  0.4365127 ]]\n"
          ]
        }
      ],
      "source": [
        "arr = np.random.rand(5,10)\n",
        "Y = arr-arr.mean(axis = 1,keepdims = True)\n",
        "print(Y)"
      ]
    },
    {
      "cell_type": "markdown",
      "metadata": {
        "id": "JHjWN59WdzoP"
      },
      "source": [
        "#### 59. How to sort an array by the nth column? (★★☆) \n",
        "(**hint**: argsort)"
      ]
    },
    {
      "cell_type": "code",
      "execution_count": null,
      "metadata": {
        "id": "rYZVQLZidzoP",
        "colab": {
          "base_uri": "https://localhost:8080/"
        },
        "outputId": "162a1be9-fd67-4718-a793-21b3d5d4a0e0"
      },
      "outputs": [
        {
          "output_type": "stream",
          "name": "stdout",
          "text": [
            "[[7 0 5]\n",
            " [9 2 3]\n",
            " [4 5 6]]\n"
          ]
        }
      ],
      "source": [
        "a = np.array([[9, 2, 3],[4, 5, 6],[7, 0, 5]])\n",
        "a = a[a[:,1].argsort()]\n",
        "print(a)"
      ]
    },
    {
      "cell_type": "markdown",
      "metadata": {
        "id": "dIfLmqkZdzoP"
      },
      "source": [
        "#### 60. How to tell if a given 2D array has null columns? (★★☆) \n",
        "(**hint**: any, ~)"
      ]
    },
    {
      "cell_type": "code",
      "execution_count": null,
      "metadata": {
        "id": "1k7_pa7NdzoP",
        "colab": {
          "base_uri": "https://localhost:8080/"
        },
        "outputId": "49126190-0a70-4763-e315-8ebf3359ca5f"
      },
      "outputs": [
        {
          "output_type": "stream",
          "name": "stdout",
          "text": [
            "False\n"
          ]
        }
      ],
      "source": [
        "num=np.random.randint(0,3,(3,10))\n",
        "print((~arr.any(axis=0)).any())"
      ]
    },
    {
      "cell_type": "markdown",
      "metadata": {
        "id": "gkk9hEjjdzoP"
      },
      "source": [
        "#### 61. Find the nearest value from a given value in an array (★★☆) \n",
        "(**hint**: np.abs, argmin, flat)"
      ]
    },
    {
      "cell_type": "code",
      "execution_count": null,
      "metadata": {
        "id": "A-dVM7IPdzoP",
        "colab": {
          "base_uri": "https://localhost:8080/"
        },
        "outputId": "c63c59cb-e917-4ea5-8f42-29c086290f17"
      },
      "outputs": [
        {
          "output_type": "stream",
          "name": "stdout",
          "text": [
            "0.5913671635455922\n"
          ]
        }
      ],
      "source": [
        "arr = np.random.uniform(0,1,10)\n",
        "a = 0.5\n",
        "m = arr.flat[np.abs(arr - a).argmin()]\n",
        "print(m)"
      ]
    },
    {
      "cell_type": "markdown",
      "metadata": {
        "id": "9YkU5NpIdzoP"
      },
      "source": [
        "#### 62. Considering two arrays with shape (1,3) and (3,1), how to compute their sum using an iterator? (★★☆) \n",
        "(**hint**: np.nditer)"
      ]
    },
    {
      "cell_type": "code",
      "execution_count": null,
      "metadata": {
        "id": "YkQfVz4_dzoP",
        "colab": {
          "base_uri": "https://localhost:8080/"
        },
        "outputId": "eceb9bf7-80f7-4beb-cbc7-a936c30209aa"
      },
      "outputs": [
        {
          "output_type": "stream",
          "name": "stdout",
          "text": [
            "[[0 1 2]\n",
            " [1 2 3]\n",
            " [2 3 4]]\n"
          ]
        }
      ],
      "source": [
        "A = np.arange(3).reshape(1,3)\n",
        "B = np.arange(3).reshape(3,1)\n",
        "it = np.nditer([A,B,None])\n",
        "for x,y,z in it: z[...] = x + y\n",
        "print(it.operands[2])"
      ]
    },
    {
      "cell_type": "markdown",
      "metadata": {
        "id": "dhPPkdQLdzoQ"
      },
      "source": [
        "#### 63. Create an array class that has a name attribute (★★☆) \n",
        "(**hint**: class method)"
      ]
    },
    {
      "cell_type": "code",
      "execution_count": null,
      "metadata": {
        "id": "mj8R0IHRdzoQ"
      },
      "outputs": [],
      "source": []
    },
    {
      "cell_type": "markdown",
      "metadata": {
        "id": "6TJs4XlTdzoQ"
      },
      "source": [
        "#### 64. Consider a given vector, how to add 1 to each element indexed by a second vector (be careful with repeated indices)? (★★★) \n",
        "(**hint**: np.bincount | np.add.at)"
      ]
    },
    {
      "cell_type": "code",
      "execution_count": null,
      "metadata": {
        "id": "fMHLm9--dzoQ",
        "colab": {
          "base_uri": "https://localhost:8080/"
        },
        "outputId": "561ff2ea-59aa-4284-d531-124c7359d553"
      },
      "outputs": [
        {
          "output_type": "stream",
          "name": "stdout",
          "text": [
            "[3. 2. 3. 5. 4. 3. 4. 2. 3. 1.]\n"
          ]
        }
      ],
      "source": [
        "arr = np.ones(10)\n",
        "I = np.random.randint(0,len(arr),20)\n",
        "arr += np.bincount(I, minlength=len(arr))\n",
        "print(arr)"
      ]
    },
    {
      "cell_type": "markdown",
      "metadata": {
        "id": "LuRVqEUldzoQ"
      },
      "source": [
        "#### 65. How to accumulate elements of a vector (X) to an array (F) based on an index list (I)? (★★★) \n",
        "(**hint**: np.bincount)"
      ]
    },
    {
      "cell_type": "code",
      "execution_count": null,
      "metadata": {
        "id": "2X3SjFqqdzoQ",
        "colab": {
          "base_uri": "https://localhost:8080/"
        },
        "outputId": "ebe99e94-80c4-4838-a0d3-e21c9a58da4d"
      },
      "outputs": [
        {
          "output_type": "stream",
          "name": "stdout",
          "text": [
            "[0. 7. 0. 6. 5. 0. 0. 0. 0. 3.]\n"
          ]
        }
      ],
      "source": [
        "X = [1,2,3,4,5,6]\n",
        "I = [1,3,9,3,4,1]\n",
        "F = np.bincount(I,X)\n",
        "print(F)"
      ]
    },
    {
      "cell_type": "markdown",
      "metadata": {
        "id": "dp0RDwjbdzoQ"
      },
      "source": [
        "#### 66. Considering a (w,h,3) image of (dtype=ubyte), compute the number of unique colors (★★★) \n",
        "(**hint**: np.unique)"
      ]
    },
    {
      "cell_type": "code",
      "execution_count": null,
      "metadata": {
        "id": "Y5wZ1WJjdzoQ",
        "colab": {
          "base_uri": "https://localhost:8080/"
        },
        "outputId": "f6403d45-1fd4-44a6-fd3b-a86642620934"
      },
      "outputs": [
        {
          "output_type": "stream",
          "name": "stdout",
          "text": [
            "64\n"
          ]
        }
      ],
      "source": [
        "w, h = 256, 256\n",
        "I = np.random.randint(0, 4, (h, w, 3)).astype(np.ubyte)\n",
        "colors = np.unique(I.reshape(-1, 3), axis=0)\n",
        "n = len(colors)\n",
        "print(n)"
      ]
    },
    {
      "cell_type": "markdown",
      "metadata": {
        "id": "q4o6uUhqdzoQ"
      },
      "source": [
        "#### 67. Considering a four dimensions array, how to get sum over the last two axis at once? (★★★) \n",
        "(**hint**: sum(axis=(-2,-1)))"
      ]
    },
    {
      "cell_type": "code",
      "execution_count": null,
      "metadata": {
        "id": "0cCANOaEdzoQ",
        "colab": {
          "base_uri": "https://localhost:8080/"
        },
        "outputId": "a203928d-3cba-4068-c9eb-2c9a38eb566d"
      },
      "outputs": [
        {
          "output_type": "stream",
          "name": "stdout",
          "text": [
            "[[52 52 48 58]\n",
            " [50 39 35 48]\n",
            " [41 55 52 50]]\n"
          ]
        }
      ],
      "source": [
        "arr = np.random.randint(0,10,(3,4,3,4))\n",
        "sum = arr.sum(axis=(-2,-1))\n",
        "print(sum)"
      ]
    },
    {
      "cell_type": "markdown",
      "metadata": {
        "id": "b8c-mWV8dzoR"
      },
      "source": [
        "#### 68. Considering a one-dimensional vector D, how to compute means of subsets of D using a vector S of same size describing subset  indices? (★★★) \n",
        "(**hint**: np.bincount)"
      ]
    },
    {
      "cell_type": "code",
      "execution_count": null,
      "metadata": {
        "id": "TJ1_IsAddzoR",
        "colab": {
          "base_uri": "https://localhost:8080/"
        },
        "outputId": "1bba0a1a-d6ba-4fa8-bd3b-d3780618f601"
      },
      "outputs": [
        {
          "output_type": "stream",
          "name": "stdout",
          "text": [
            "[0.41502625 0.53505454 0.52426901 0.41588417 0.57594774 0.71737094\n",
            " 0.48346834 0.64907497 0.43935503 0.47599171]\n"
          ]
        }
      ],
      "source": [
        "D = np.random.uniform(0,1,100)\n",
        "S = np.random.randint(0,10,100)\n",
        "D_sums = np.bincount(S, weights=D)\n",
        "D_counts = np.bincount(S)\n",
        "D_means = D_sums / D_counts\n",
        "print(D_means)\n"
      ]
    },
    {
      "cell_type": "markdown",
      "metadata": {
        "id": "C13nV4TydzoR"
      },
      "source": [
        "#### 69. How to get the diagonal of a dot product? (★★★) \n",
        "(**hint**: np.diag)"
      ]
    },
    {
      "cell_type": "code",
      "execution_count": null,
      "metadata": {
        "id": "0D75WZhBdzoR",
        "colab": {
          "base_uri": "https://localhost:8080/"
        },
        "outputId": "e034f3bd-bae6-4314-dfd7-2b71a7560b0a"
      },
      "outputs": [
        {
          "output_type": "execute_result",
          "data": {
            "text/plain": [
              "array([1.7486913 , 1.49540387, 2.09948136, 1.94015225, 1.3478665 ])"
            ]
          },
          "metadata": {},
          "execution_count": 68
        }
      ],
      "source": [
        "arr1 = np.random.uniform(0,1,(5,5))\n",
        "arr2 = np.random.uniform(0,1,(5,5))\n",
        "np.diag(np.dot(arr1, arr2))"
      ]
    },
    {
      "cell_type": "markdown",
      "metadata": {
        "id": "YjzVNn0sdzoR"
      },
      "source": [
        "#### 70. Consider the vector \\[1, 2, 3, 4, 5\\], how to build a new vector with 3 consecutive zeros interleaved between each value? (★★★) \n",
        "(**hint**: array\\[::4\\])"
      ]
    },
    {
      "cell_type": "code",
      "execution_count": null,
      "metadata": {
        "id": "U3t73fx9dzoR",
        "colab": {
          "base_uri": "https://localhost:8080/"
        },
        "outputId": "89d1e7a1-61a5-439e-d6e3-cbb4d9e5a4b6"
      },
      "outputs": [
        {
          "output_type": "stream",
          "name": "stdout",
          "text": [
            "[1. 0. 0. 0. 2. 0. 0. 0. 3. 0. 0. 0. 4. 0. 0. 0. 5.]\n"
          ]
        }
      ],
      "source": [
        "arr = np.array([1,2,3,4,5])\n",
        "nz = 3\n",
        "arr0 = np.zeros(len(arr) + (len(arr)-1)*(nz))\n",
        "arr0[::nz+1] = arr\n",
        "print(arr0)"
      ]
    },
    {
      "cell_type": "markdown",
      "metadata": {
        "id": "uoNNRpU4dzoR"
      },
      "source": [
        "#### 71. Consider an array of dimension (5,5,3), how to mulitply it by an array with dimensions (5,5)? (★★★) \n",
        "(**hint**: array\\[:, :, None\\])"
      ]
    },
    {
      "cell_type": "code",
      "execution_count": null,
      "metadata": {
        "collapsed": true,
        "id": "FjB7_T-udzoR",
        "colab": {
          "base_uri": "https://localhost:8080/"
        },
        "outputId": "fb07f7b1-4f37-44b1-91aa-5e6dc337f514"
      },
      "outputs": [
        {
          "output_type": "stream",
          "name": "stdout",
          "text": [
            "[[[1. 1. 1.]\n",
            "  [1. 1. 1.]\n",
            "  [1. 1. 1.]\n",
            "  [1. 1. 1.]\n",
            "  [1. 1. 1.]]\n",
            "\n",
            " [[1. 1. 1.]\n",
            "  [1. 1. 1.]\n",
            "  [1. 1. 1.]\n",
            "  [1. 1. 1.]\n",
            "  [1. 1. 1.]]\n",
            "\n",
            " [[1. 1. 1.]\n",
            "  [1. 1. 1.]\n",
            "  [1. 1. 1.]\n",
            "  [1. 1. 1.]\n",
            "  [1. 1. 1.]]\n",
            "\n",
            " [[1. 1. 1.]\n",
            "  [1. 1. 1.]\n",
            "  [1. 1. 1.]\n",
            "  [1. 1. 1.]\n",
            "  [1. 1. 1.]]\n",
            "\n",
            " [[1. 1. 1.]\n",
            "  [1. 1. 1.]\n",
            "  [1. 1. 1.]\n",
            "  [1. 1. 1.]\n",
            "  [1. 1. 1.]]]\n"
          ]
        }
      ],
      "source": [
        "arr1 = np.ones((5,5,3))\n",
        "arr2 = np.ones((5,5))\n",
        "print(arr1 * arr2[:,:,None])"
      ]
    },
    {
      "cell_type": "markdown",
      "metadata": {
        "id": "BK7IPy-adzoR"
      },
      "source": [
        "#### 72. How to swap two rows of an array? (★★★) \n",
        "(**hint**: array\\[\\[\\]\\] = array\\[\\[\\]\\])"
      ]
    },
    {
      "cell_type": "code",
      "execution_count": null,
      "metadata": {
        "id": "w8Bqx5pwdzoR",
        "colab": {
          "base_uri": "https://localhost:8080/"
        },
        "outputId": "d3d6527a-ca98-4a01-8585-e2660a8f181e"
      },
      "outputs": [
        {
          "output_type": "stream",
          "name": "stdout",
          "text": [
            "[[ 4  5  6  7]\n",
            " [ 0  1  2  3]\n",
            " [ 8  9 10 11]\n",
            " [12 13 14 15]\n",
            " [16 17 18 19]\n",
            " [20 21 22 23]]\n"
          ]
        }
      ],
      "source": [
        "x = np.arange(24).reshape(6,4)\n",
        "x[[1,0]]=x[[0,1]]\n",
        "print(x)"
      ]
    },
    {
      "cell_type": "markdown",
      "metadata": {
        "id": "r4jGYe_kdzoR"
      },
      "source": [
        "#### 73. Consider a set of 10 triplets describing 10 triangles (with shared vertices), find the set of unique line segments composing all the  triangles (★★★) \n",
        "(**hint**: repeat, np.roll, np.sort, view, np.unique)"
      ]
    },
    {
      "cell_type": "code",
      "execution_count": null,
      "metadata": {
        "id": "YRtGQKYtdzoR",
        "colab": {
          "base_uri": "https://localhost:8080/"
        },
        "outputId": "24d8206b-3bef-4b7a-9361-53d752df5f0b"
      },
      "outputs": [
        {
          "output_type": "stream",
          "name": "stdout",
          "text": [
            "[( 2, 13) ( 2, 32) ( 8, 84) ( 8, 89) (12, 66) (12, 73) (13, 32) (22, 80)\n",
            " (22, 93) (29, 75) (29, 94) (38, 56) (38, 82) (41, 43) (41, 44) (41, 67)\n",
            " (41, 82) (43, 67) (44, 82) (48, 68) (48, 76) (50, 59) (50, 84) (56, 82)\n",
            " (59, 84) (66, 73) (68, 76) (75, 94) (80, 93) (84, 89)]\n"
          ]
        }
      ],
      "source": [
        "faces = np.random.randint(0,100,(10,3))\n",
        "F = np.roll(faces.repeat(2,axis=1),-1,axis=1)\n",
        "F = F.reshape(len(F)*3,2)\n",
        "F = np.sort(F,axis=1)\n",
        "G = F.view( dtype=[('p0',F.dtype),('p1',F.dtype)] )\n",
        "G = np.unique(G)\n",
        "print(G)"
      ]
    },
    {
      "cell_type": "markdown",
      "metadata": {
        "id": "UoCssTjKdzoR"
      },
      "source": [
        "#### 74. Given an array C that is a bincount, how to produce an array A such that np.bincount(A) == C? (★★★) \n",
        "(**hint**: np.repeat)"
      ]
    },
    {
      "cell_type": "code",
      "execution_count": null,
      "metadata": {
        "id": "roTEOQLQdzoS",
        "colab": {
          "base_uri": "https://localhost:8080/"
        },
        "outputId": "7f478e0d-ea05-424d-d2e5-1b4ec94e05a2"
      },
      "outputs": [
        {
          "output_type": "stream",
          "name": "stdout",
          "text": [
            "[1 1 1 2 3 4 6]\n"
          ]
        }
      ],
      "source": [
        "C =  np.bincount([1,4,6,2,3,1,1])\n",
        "A = np.repeat(np.arange(len(C)),C)\n",
        "print(A)"
      ]
    },
    {
      "cell_type": "markdown",
      "metadata": {
        "id": "e-48YfWYdzoS"
      },
      "source": [
        "#### 75. How to compute averages using a sliding window over an array? (★★★) \n",
        "(**hint**: np.cumsum)"
      ]
    },
    {
      "cell_type": "code",
      "execution_count": null,
      "metadata": {
        "id": "4IReDv1FdzoS",
        "colab": {
          "base_uri": "https://localhost:8080/"
        },
        "outputId": "1c9131fb-e07f-40a1-9f17-9d7fb90d8292"
      },
      "outputs": [
        {
          "output_type": "stream",
          "name": "stdout",
          "text": [
            "[ 1.  2.  3.  4.  5.  6.  7.  8.  9. 10. 11. 12. 13. 14. 15. 16. 17. 18.]\n"
          ]
        }
      ],
      "source": [
        "def moving_average(a,n =3):\n",
        "  test = np.cumsum(a,dtype = float)\n",
        "  test[n:]=test[n:]-test[:-n]\n",
        "  return test[n - 1:] / n\n",
        "arr = np.arange(20)\n",
        "print(moving_average(arr,n=3))"
      ]
    },
    {
      "cell_type": "markdown",
      "metadata": {
        "id": "nJI2tH3JdzoS"
      },
      "source": [
        "#### 76. Consider a one-dimensional array Z, build a two-dimensional array whose first row is (Z\\[0\\],Z\\[1\\],Z\\[2\\]) and each subsequent row is  shifted by 1 (last row should be (Z\\[-3\\],Z\\[-2\\],Z\\[-1\\]) (★★★) \n",
        "(**hint**: from numpy.lib import stride_tricks)"
      ]
    },
    {
      "cell_type": "code",
      "execution_count": null,
      "metadata": {
        "id": "SvkyTaH0dzoS",
        "colab": {
          "base_uri": "https://localhost:8080/"
        },
        "outputId": "1b86b84e-0d42-4906-824a-23305ba592c9"
      },
      "outputs": [
        {
          "output_type": "stream",
          "name": "stdout",
          "text": [
            "[[0 1 2]\n",
            " [1 2 3]\n",
            " [2 3 4]\n",
            " [3 4 5]\n",
            " [4 5 6]\n",
            " [5 6 7]\n",
            " [6 7 8]\n",
            " [7 8 9]]\n"
          ]
        }
      ],
      "source": [
        "def rolling(a, window):\n",
        "    shape = (a.size - window + 1, window)\n",
        "    strides = (a.itemsize, a.itemsize)\n",
        "    return np.lib.stride_tricks.as_strided(a, shape=shape, strides=strides)\n",
        "Z = rolling(np.arange(10), 3)\n",
        "print(Z)"
      ]
    },
    {
      "cell_type": "markdown",
      "metadata": {
        "id": "_xzjPQzrdzoS"
      },
      "source": [
        "#### 77. How to negate a boolean, or to change the sign of a float inplace? (★★★) \n",
        "(**hint**: np.logical_not, np.negative)"
      ]
    },
    {
      "cell_type": "code",
      "execution_count": null,
      "metadata": {
        "id": "STniZw-1dzoT",
        "colab": {
          "base_uri": "https://localhost:8080/"
        },
        "outputId": "e4b64615-729d-4497-8d59-caa21d09ce39"
      },
      "outputs": [
        {
          "output_type": "stream",
          "name": "stdout",
          "text": [
            "original: \n",
            "[0 0 1 0 0 0 1 0 0 1 0 1 1 1 1 0 1 0 0 0 1 0 0 1 0 1 1 1 0 0 0 1 1 1 1 0 0\n",
            " 1 0 0 0 1 0 0 0 1 1 1 1 1]\n",
            "Negating a boolean: \n",
            "[1 1 0 1 1 1 0 1 1 0 1 0 0 0 0 1 0 1 1 1 0 1 1 0 1 0 0 0 1 1 1 0 0 0 0 1 1\n",
            " 0 1 1 1 0 1 1 1 0 0 0 0 0]\n",
            "original: \n",
            "[-0.27129002 -0.04724323 -0.81409507  0.12470681 -0.17911678 -0.28524137\n",
            " -0.31027879 -0.56638909 -0.67419199  0.29950719 -0.02503097  0.11217538\n",
            "  0.46884503 -0.73384328  0.35656561 -0.68947272  0.81256935 -0.68851559\n",
            " -0.83478005 -0.95618636 -0.7933714   0.82275998 -0.31255919  0.31505287\n",
            " -0.46462518  0.31697883 -0.57370381 -0.96286082 -0.90202768 -0.33703018\n",
            "  0.46993671  0.60510627 -0.98512289  0.7975097  -0.42284569  0.84311505\n",
            "  0.80274987  0.8334766  -0.92644389 -0.82186817 -0.89100907  0.12107755\n",
            "  0.93909048 -0.31064894  0.64289301  0.82680439  0.6135592  -0.77804438\n",
            "  0.18118436 -0.89889059]\n",
            "Change the sign of float inplace: \n",
            "[ 0.27129002  0.04724323  0.81409507 -0.12470681  0.17911678  0.28524137\n",
            "  0.31027879  0.56638909  0.67419199 -0.29950719  0.02503097 -0.11217538\n",
            " -0.46884503  0.73384328 -0.35656561  0.68947272 -0.81256935  0.68851559\n",
            "  0.83478005  0.95618636  0.7933714  -0.82275998  0.31255919 -0.31505287\n",
            "  0.46462518 -0.31697883  0.57370381  0.96286082  0.90202768  0.33703018\n",
            " -0.46993671 -0.60510627  0.98512289 -0.7975097   0.42284569 -0.84311505\n",
            " -0.80274987 -0.8334766   0.92644389  0.82186817  0.89100907 -0.12107755\n",
            " -0.93909048  0.31064894 -0.64289301 -0.82680439 -0.6135592   0.77804438\n",
            " -0.18118436  0.89889059]\n"
          ]
        }
      ],
      "source": [
        "x = np.random.randint(0,2,50)\n",
        "print ('original: ')\n",
        "print (x)\n",
        "print('Negating a boolean: ')\n",
        "print(np.logical_not(x, out=x))\n",
        "\n",
        "y = np.random.uniform(-1,1,50)\n",
        "print ('original: ')\n",
        "print (y)\n",
        "print ('Change the sign of float inplace: ')\n",
        "print(np.negative(y, out=y))"
      ]
    },
    {
      "cell_type": "markdown",
      "metadata": {
        "id": "XoyGq42vdzoT"
      },
      "source": [
        "#### 78. Consider 2 sets of points P0,P1 describing lines (2d) and a point p, how to compute distance from p to each line i  (P0\\[i\\],P1\\[i\\])? (★★★)"
      ]
    },
    {
      "cell_type": "code",
      "execution_count": null,
      "metadata": {
        "id": "0dg0eub9dzoT",
        "colab": {
          "base_uri": "https://localhost:8080/"
        },
        "outputId": "6de178a9-1fbe-46d2-e0a9-994f36d53f99"
      },
      "outputs": [
        {
          "output_type": "stream",
          "name": "stdout",
          "text": [
            "[7.6034122  0.923344   6.54276131 1.75849287 3.45115491 3.37408232\n",
            " 4.28488484 4.94962988 9.90879301 1.02377903]\n"
          ]
        }
      ],
      "source": [
        "def distance(P0, P1, p):\n",
        "    T = P1 - P0\n",
        "    L = (T**2).sum(axis=1)\n",
        "    U = -((P0[:,0]-p[...,0])*T[:,0] + (P0[:,1]-p[...,1])*T[:,1]) / L\n",
        "    U = U.reshape(len(U),1)\n",
        "    D = P0 + U*T - p\n",
        "    return np.sqrt((D**2).sum(axis=1))\n",
        "\n",
        "P0 = np.random.uniform(-10,10,(10,2))\n",
        "P1 = np.random.uniform(-10,10,(10,2))\n",
        "p  = np.random.uniform(-10,10,( 1,2))\n",
        "print(distance(P0, P1, p))"
      ]
    },
    {
      "cell_type": "markdown",
      "metadata": {
        "id": "Ho62_8RedzoT"
      },
      "source": [
        "#### 79. Consider 2 sets of points P0,P1 describing lines (2d) and a set of points P, how to compute distance from each point j (P\\[j\\]) to each line i (P0\\[i\\],P1\\[i\\])? (★★★)"
      ]
    },
    {
      "cell_type": "code",
      "execution_count": null,
      "metadata": {
        "id": "vvP4OHoydzoT",
        "colab": {
          "base_uri": "https://localhost:8080/"
        },
        "outputId": "da9dba99-c9c9-460a-c44b-d2d5e8048061"
      },
      "outputs": [
        {
          "output_type": "stream",
          "name": "stdout",
          "text": [
            "[[ 7.04320264 13.57589679  1.29374426  1.79398208  7.75607318 16.04550077\n",
            "  15.24874877  7.43667492  9.07221827  9.84292193]\n",
            " [ 6.05459661 13.1462879  11.47899616  1.52758557 10.77123253 12.70666839\n",
            "   4.31275228  2.55316627  0.09591548  0.07380889]\n",
            " [10.19359076  3.46781505  2.37378191 15.81212726  7.22388281  1.56059425\n",
            "   4.84248583  9.98779805  5.25646111  3.23246814]\n",
            " [ 5.36453344  1.78259023  7.67414169 12.88557093  0.33471417  1.35097648\n",
            "   1.21354535  8.47648983  8.48437752  7.5234485 ]\n",
            " [ 1.3438781   7.87322037  1.19377414  3.74395323  2.32784461 10.50968754\n",
            "  13.07586352  2.15162227  5.35800181  6.64372273]\n",
            " [ 9.68131526 16.06184156  0.47130691  5.00595863  9.18176135 19.26133887\n",
            "  19.1551784  10.97272071 13.13301471 13.89551103]\n",
            " [ 9.4150001   2.49535487  1.63558847 15.87162036  5.11472679  1.62647181\n",
            "   1.48970408 10.6368653   7.6952298   6.03121505]\n",
            " [ 9.1913936   2.76485896  7.62496972 13.57327423  8.38943698  0.68733356\n",
            "  10.88229214  6.93299845  0.03612188  2.34628435]\n",
            " [ 6.75500699  0.07052678  0.98133193 12.88327836  3.25777713  1.3638946\n",
            "   4.30921088  7.49199071  4.50433083  2.93741702]\n",
            " [ 6.73484344  0.16535033  2.40641221 13.1786389   2.71074085  1.06617432\n",
            "   2.9083091   8.00246151  5.62827956  4.17496851]]\n"
          ]
        }
      ],
      "source": [
        "P0 = np.random.uniform(-10,10,(10,2))\n",
        "P1 = np.random.uniform(-10,10,(10,2))\n",
        "p = np.random.uniform(-10,10,(10,2))\n",
        "print(np.array([distance(P0,P1,p_i)for p_i in p]))"
      ]
    },
    {
      "cell_type": "markdown",
      "metadata": {
        "id": "CpnBqVF6dzoT"
      },
      "source": [
        "#### 80. Consider an arbitrary array, write a function that extract a subpart with a fixed shape and centered on a given element (pad with a `fill` value when necessary) (★★★) \n",
        "(**hint**: minimum, maximum)"
      ]
    },
    {
      "cell_type": "code",
      "execution_count": null,
      "metadata": {
        "id": "R7vCJWU2dzoT",
        "colab": {
          "base_uri": "https://localhost:8080/"
        },
        "outputId": "b6624740-f43e-4712-cc3f-6e6cc9f04589"
      },
      "outputs": [
        {
          "output_type": "stream",
          "name": "stdout",
          "text": [
            "[[3 8 8 3 5 2 2 3 7 4]\n",
            " [7 6 4 1 9 2 9 9 0 3]\n",
            " [3 5 5 5 1 2 1 1 4 4]\n",
            " [5 4 5 2 1 1 8 6 4 3]\n",
            " [3 1 3 1 0 7 7 8 7 0]\n",
            " [0 8 6 4 9 8 5 9 2 8]\n",
            " [8 3 7 6 2 2 8 8 9 3]\n",
            " [0 2 9 1 4 7 3 1 2 8]\n",
            " [4 2 4 1 7 6 6 8 5 2]\n",
            " [7 8 3 5 0 6 9 5 6 8]]\n",
            "[[0 0 0 0 0]\n",
            " [0 3 8 8 3]\n",
            " [0 7 6 4 1]\n",
            " [0 3 5 5 5]\n",
            " [0 5 4 5 2]]\n"
          ]
        },
        {
          "output_type": "stream",
          "name": "stderr",
          "text": [
            "/usr/local/lib/python3.7/dist-packages/ipykernel_launcher.py:23: FutureWarning: Using a non-tuple sequence for multidimensional indexing is deprecated; use `arr[tuple(seq)]` instead of `arr[seq]`. In the future this will be interpreted as an array index, `arr[np.array(seq)]`, which will result either in an error or a different result.\n"
          ]
        }
      ],
      "source": [
        "Z = np.random.randint(0,10,(10,10))\n",
        "shape = (5,5)\n",
        "fill  = 0\n",
        "position = (1,1)\n",
        "\n",
        "R = np.ones(shape, dtype=Z.dtype)*fill\n",
        "P  = np.array(list(position)).astype(int)\n",
        "Rs = np.array(list(R.shape)).astype(int)\n",
        "Zs = np.array(list(Z.shape)).astype(int)\n",
        "\n",
        "R_start = np.zeros((len(shape),)).astype(int)\n",
        "R_stop  = np.array(list(shape)).astype(int)\n",
        "Z_start = (P-Rs//2)\n",
        "Z_stop  = (P+Rs//2)+Rs%2\n",
        "\n",
        "R_start = (R_start - np.minimum(Z_start,0)).tolist()\n",
        "Z_start = (np.maximum(Z_start,0)).tolist()\n",
        "R_stop = np.maximum(R_start, (R_stop - np.maximum(Z_stop-Zs,0))).tolist()\n",
        "Z_stop = (np.minimum(Z_stop,Zs)).tolist()\n",
        "\n",
        "r = [slice(start,stop) for start,stop in zip(R_start,R_stop)]\n",
        "z = [slice(start,stop) for start,stop in zip(Z_start,Z_stop)]\n",
        "R[r] = Z[z]\n",
        "print(Z)\n",
        "print(R)"
      ]
    },
    {
      "cell_type": "markdown",
      "metadata": {
        "id": "xzYBKh99dzoU"
      },
      "source": [
        "#### 81. Consider an array Z = \\[1,2,3,4,5,6,7,8,9,10,11,12,13,14\\], how to generate an array R = \\[\\[1,2,3,4\\], \\[2,3,4,5\\], \\[3,4,5,6\\], ..., \\[11,12,13,14\\]\\]? (★★★) \n",
        "(**hint**: stride\\_tricks.as\\_strided)"
      ]
    },
    {
      "cell_type": "code",
      "execution_count": null,
      "metadata": {
        "id": "vaD3O9Q7dzoU",
        "colab": {
          "base_uri": "https://localhost:8080/"
        },
        "outputId": "c0844de0-f4cf-4686-a1fe-82d6b728adca"
      },
      "outputs": [
        {
          "output_type": "stream",
          "name": "stdout",
          "text": [
            "[[ 1  2  3  4]\n",
            " [ 2  3  4  5]\n",
            " [ 3  4  5  6]\n",
            " [ 4  5  6  7]\n",
            " [ 5  6  7  8]\n",
            " [ 6  7  8  9]\n",
            " [ 7  8  9 10]\n",
            " [ 8  9 10 11]\n",
            " [ 9 10 11 12]\n",
            " [10 11 12 13]\n",
            " [11 12 13 14]]\n"
          ]
        }
      ],
      "source": [
        "Z = np.arange(1,15,dtype=np.uint32)\n",
        "R = np.lib.stride_tricks.as_strided(Z,(11,4),(4,4))\n",
        "print(R)"
      ]
    },
    {
      "cell_type": "markdown",
      "metadata": {
        "id": "hlikD7xKdzoU"
      },
      "source": [
        "#### 82. Compute a matrix rank (★★★) \n",
        "(**hint**: np.linalg.svd) (suggestion: np.linalg.svd)"
      ]
    },
    {
      "cell_type": "code",
      "execution_count": null,
      "metadata": {
        "id": "UACC7-yWdzoU",
        "colab": {
          "base_uri": "https://localhost:8080/"
        },
        "outputId": "8f9ca82a-c316-4e79-fe64-ac83533b2d97"
      },
      "outputs": [
        {
          "output_type": "stream",
          "name": "stdout",
          "text": [
            "10\n"
          ]
        }
      ],
      "source": [
        "arr = np.random.uniform(0,1,(10,10))\n",
        "U, S, V = np.linalg.svd(arr) \n",
        "rank = np.sum(S > 1e-10)\n",
        "print(rank)"
      ]
    },
    {
      "cell_type": "markdown",
      "metadata": {
        "id": "Jm9Ewh1MdzoU"
      },
      "source": [
        "#### 83. How to find the most frequent value in an array? \n",
        "(**hint**: np.bincount, argmax)"
      ]
    },
    {
      "cell_type": "code",
      "execution_count": null,
      "metadata": {
        "id": "PKIf3xSDdzoV",
        "colab": {
          "base_uri": "https://localhost:8080/"
        },
        "outputId": "562adf56-5f2c-4571-e221-94fe5b85026d"
      },
      "outputs": [
        {
          "output_type": "stream",
          "name": "stdout",
          "text": [
            "6\n"
          ]
        }
      ],
      "source": [
        "n = np.random.randint(0,10,50)\n",
        "print(np.bincount(n).argmax())"
      ]
    },
    {
      "cell_type": "markdown",
      "metadata": {
        "id": "__xrR1WedzoV"
      },
      "source": [
        "#### 84. Extract all the contiguous 3x3 blocks from a random 10x10 matrix (★★★) \n",
        "(**hint**: stride\\_tricks.as\\_strided)"
      ]
    },
    {
      "cell_type": "code",
      "execution_count": null,
      "metadata": {
        "id": "YICc1zhudzoV",
        "colab": {
          "base_uri": "https://localhost:8080/"
        },
        "outputId": "0e739c01-83fe-479f-e2db-639fbbe9599f"
      },
      "outputs": [
        {
          "output_type": "stream",
          "name": "stdout",
          "text": [
            "[[[[3 3 3]\n",
            "   [1 3 0]\n",
            "   [0 0 3]]\n",
            "\n",
            "  [[3 3 4]\n",
            "   [3 0 3]\n",
            "   [0 3 4]]\n",
            "\n",
            "  [[3 4 3]\n",
            "   [0 3 4]\n",
            "   [3 4 4]]\n",
            "\n",
            "  [[4 3 2]\n",
            "   [3 4 2]\n",
            "   [4 4 0]]\n",
            "\n",
            "  [[3 2 1]\n",
            "   [4 2 3]\n",
            "   [4 0 3]]\n",
            "\n",
            "  [[2 1 4]\n",
            "   [2 3 2]\n",
            "   [0 3 3]]\n",
            "\n",
            "  [[1 4 2]\n",
            "   [3 2 0]\n",
            "   [3 3 2]]\n",
            "\n",
            "  [[4 2 0]\n",
            "   [2 0 3]\n",
            "   [3 2 0]]]\n",
            "\n",
            "\n",
            " [[[1 3 0]\n",
            "   [0 0 3]\n",
            "   [0 0 3]]\n",
            "\n",
            "  [[3 0 3]\n",
            "   [0 3 4]\n",
            "   [0 3 4]]\n",
            "\n",
            "  [[0 3 4]\n",
            "   [3 4 4]\n",
            "   [3 4 0]]\n",
            "\n",
            "  [[3 4 2]\n",
            "   [4 4 0]\n",
            "   [4 0 4]]\n",
            "\n",
            "  [[4 2 3]\n",
            "   [4 0 3]\n",
            "   [0 4 0]]\n",
            "\n",
            "  [[2 3 2]\n",
            "   [0 3 3]\n",
            "   [4 0 0]]\n",
            "\n",
            "  [[3 2 0]\n",
            "   [3 3 2]\n",
            "   [0 0 4]]\n",
            "\n",
            "  [[2 0 3]\n",
            "   [3 2 0]\n",
            "   [0 4 1]]]\n",
            "\n",
            "\n",
            " [[[0 0 3]\n",
            "   [0 0 3]\n",
            "   [2 2 0]]\n",
            "\n",
            "  [[0 3 4]\n",
            "   [0 3 4]\n",
            "   [2 0 0]]\n",
            "\n",
            "  [[3 4 4]\n",
            "   [3 4 0]\n",
            "   [0 0 2]]\n",
            "\n",
            "  [[4 4 0]\n",
            "   [4 0 4]\n",
            "   [0 2 3]]\n",
            "\n",
            "  [[4 0 3]\n",
            "   [0 4 0]\n",
            "   [2 3 4]]\n",
            "\n",
            "  [[0 3 3]\n",
            "   [4 0 0]\n",
            "   [3 4 2]]\n",
            "\n",
            "  [[3 3 2]\n",
            "   [0 0 4]\n",
            "   [4 2 1]]\n",
            "\n",
            "  [[3 2 0]\n",
            "   [0 4 1]\n",
            "   [2 1 3]]]\n",
            "\n",
            "\n",
            " [[[0 0 3]\n",
            "   [2 2 0]\n",
            "   [4 4 1]]\n",
            "\n",
            "  [[0 3 4]\n",
            "   [2 0 0]\n",
            "   [4 1 4]]\n",
            "\n",
            "  [[3 4 0]\n",
            "   [0 0 2]\n",
            "   [1 4 3]]\n",
            "\n",
            "  [[4 0 4]\n",
            "   [0 2 3]\n",
            "   [4 3 4]]\n",
            "\n",
            "  [[0 4 0]\n",
            "   [2 3 4]\n",
            "   [3 4 4]]\n",
            "\n",
            "  [[4 0 0]\n",
            "   [3 4 2]\n",
            "   [4 4 4]]\n",
            "\n",
            "  [[0 0 4]\n",
            "   [4 2 1]\n",
            "   [4 4 3]]\n",
            "\n",
            "  [[0 4 1]\n",
            "   [2 1 3]\n",
            "   [4 3 3]]]\n",
            "\n",
            "\n",
            " [[[2 2 0]\n",
            "   [4 4 1]\n",
            "   [1 0 1]]\n",
            "\n",
            "  [[2 0 0]\n",
            "   [4 1 4]\n",
            "   [0 1 1]]\n",
            "\n",
            "  [[0 0 2]\n",
            "   [1 4 3]\n",
            "   [1 1 2]]\n",
            "\n",
            "  [[0 2 3]\n",
            "   [4 3 4]\n",
            "   [1 2 1]]\n",
            "\n",
            "  [[2 3 4]\n",
            "   [3 4 4]\n",
            "   [2 1 1]]\n",
            "\n",
            "  [[3 4 2]\n",
            "   [4 4 4]\n",
            "   [1 1 0]]\n",
            "\n",
            "  [[4 2 1]\n",
            "   [4 4 3]\n",
            "   [1 0 3]]\n",
            "\n",
            "  [[2 1 3]\n",
            "   [4 3 3]\n",
            "   [0 3 3]]]\n",
            "\n",
            "\n",
            " [[[4 4 1]\n",
            "   [1 0 1]\n",
            "   [3 4 1]]\n",
            "\n",
            "  [[4 1 4]\n",
            "   [0 1 1]\n",
            "   [4 1 2]]\n",
            "\n",
            "  [[1 4 3]\n",
            "   [1 1 2]\n",
            "   [1 2 2]]\n",
            "\n",
            "  [[4 3 4]\n",
            "   [1 2 1]\n",
            "   [2 2 0]]\n",
            "\n",
            "  [[3 4 4]\n",
            "   [2 1 1]\n",
            "   [2 0 4]]\n",
            "\n",
            "  [[4 4 4]\n",
            "   [1 1 0]\n",
            "   [0 4 4]]\n",
            "\n",
            "  [[4 4 3]\n",
            "   [1 0 3]\n",
            "   [4 4 1]]\n",
            "\n",
            "  [[4 3 3]\n",
            "   [0 3 3]\n",
            "   [4 1 4]]]\n",
            "\n",
            "\n",
            " [[[1 0 1]\n",
            "   [3 4 1]\n",
            "   [3 4 4]]\n",
            "\n",
            "  [[0 1 1]\n",
            "   [4 1 2]\n",
            "   [4 4 4]]\n",
            "\n",
            "  [[1 1 2]\n",
            "   [1 2 2]\n",
            "   [4 4 0]]\n",
            "\n",
            "  [[1 2 1]\n",
            "   [2 2 0]\n",
            "   [4 0 4]]\n",
            "\n",
            "  [[2 1 1]\n",
            "   [2 0 4]\n",
            "   [0 4 0]]\n",
            "\n",
            "  [[1 1 0]\n",
            "   [0 4 4]\n",
            "   [4 0 1]]\n",
            "\n",
            "  [[1 0 3]\n",
            "   [4 4 1]\n",
            "   [0 1 3]]\n",
            "\n",
            "  [[0 3 3]\n",
            "   [4 1 4]\n",
            "   [1 3 3]]]\n",
            "\n",
            "\n",
            " [[[3 4 1]\n",
            "   [3 4 4]\n",
            "   [3 4 4]]\n",
            "\n",
            "  [[4 1 2]\n",
            "   [4 4 4]\n",
            "   [4 4 0]]\n",
            "\n",
            "  [[1 2 2]\n",
            "   [4 4 0]\n",
            "   [4 0 1]]\n",
            "\n",
            "  [[2 2 0]\n",
            "   [4 0 4]\n",
            "   [0 1 2]]\n",
            "\n",
            "  [[2 0 4]\n",
            "   [0 4 0]\n",
            "   [1 2 2]]\n",
            "\n",
            "  [[0 4 4]\n",
            "   [4 0 1]\n",
            "   [2 2 1]]\n",
            "\n",
            "  [[4 4 1]\n",
            "   [0 1 3]\n",
            "   [2 1 0]]\n",
            "\n",
            "  [[4 1 4]\n",
            "   [1 3 3]\n",
            "   [1 0 3]]]]\n"
          ]
        }
      ],
      "source": [
        "arr = np.random.randint(0,5,(10,10))\n",
        "n = 3\n",
        "i = 1 + (arr.shape[0]-3)\n",
        "j = 1 + (arr.shape[1]-3)\n",
        "C = np.lib.stride_tricks.as_strided(arr, shape=(i, j, n, n), strides=arr.strides + arr.strides)\n",
        "print(C)"
      ]
    },
    {
      "cell_type": "markdown",
      "metadata": {
        "id": "ItfzKynYdzoV"
      },
      "source": [
        "#### 85. Create a 2D array subclass such that Z\\[i,j\\] == Z\\[j,i\\] (★★★) \n",
        "(**hint**: class method)"
      ]
    },
    {
      "cell_type": "code",
      "execution_count": null,
      "metadata": {
        "id": "nLwmt2fCdzoV"
      },
      "outputs": [],
      "source": []
    },
    {
      "cell_type": "markdown",
      "metadata": {
        "id": "fyV2qNYmdzoV"
      },
      "source": [
        "#### 86. Consider a set of p matrices wich shape (n,n) and a set of p vectors with shape (n,1). How to compute the sum of of the p matrix products at once? (result has shape (n,1)) (★★★) \n",
        "(**hint**: np.tensordot)"
      ]
    },
    {
      "cell_type": "code",
      "execution_count": null,
      "metadata": {
        "id": "Y8BiRKNQdzoW",
        "colab": {
          "base_uri": "https://localhost:8080/"
        },
        "outputId": "db49cf1e-318d-4b5b-fbe6-22b675edfdd0"
      },
      "outputs": [
        {
          "output_type": "stream",
          "name": "stdout",
          "text": [
            "[[200.]\n",
            " [200.]\n",
            " [200.]\n",
            " [200.]\n",
            " [200.]\n",
            " [200.]\n",
            " [200.]\n",
            " [200.]\n",
            " [200.]\n",
            " [200.]\n",
            " [200.]\n",
            " [200.]\n",
            " [200.]\n",
            " [200.]\n",
            " [200.]\n",
            " [200.]\n",
            " [200.]\n",
            " [200.]\n",
            " [200.]\n",
            " [200.]]\n"
          ]
        }
      ],
      "source": [
        "p,n = 10,20\n",
        "M = np.ones((p,n,n))\n",
        "V = np.ones((p,n,1))\n",
        "S = np.tensordot(M, V, axes=[[0, 2], [0, 1]])\n",
        "print(S)"
      ]
    },
    {
      "cell_type": "markdown",
      "metadata": {
        "id": "90qlbBjrdzoW"
      },
      "source": [
        "#### 87. Consider a 16x16 array, how to get the block-sum (block size is 4x4)? (★★★) \n",
        "(**hint**: np.add.reduceat)"
      ]
    },
    {
      "cell_type": "code",
      "execution_count": null,
      "metadata": {
        "id": "aM5awER_dzoW",
        "colab": {
          "base_uri": "https://localhost:8080/"
        },
        "outputId": "6fc38829-74b3-4c85-b4f3-97a16cdb4df0"
      },
      "outputs": [
        {
          "output_type": "stream",
          "name": "stdout",
          "text": [
            "[[16. 16. 16. 16.]\n",
            " [16. 16. 16. 16.]\n",
            " [16. 16. 16. 16.]\n",
            " [16. 16. 16. 16.]]\n"
          ]
        }
      ],
      "source": [
        "Z = np.ones((16,16))\n",
        "k = 4\n",
        "S = np.add.reduceat(np.add.reduceat(Z,np.arange(0,Z.shape[0],k),axis = 0),np.arange(0,Z.shape[1],k),axis = 1)\n",
        "print(S)"
      ]
    },
    {
      "cell_type": "markdown",
      "metadata": {
        "id": "jmalKvF_dzoW"
      },
      "source": [
        "#### 88. How to implement the Game of Life using numpy arrays? (★★★)"
      ]
    },
    {
      "cell_type": "code",
      "execution_count": null,
      "metadata": {
        "id": "uTUFDNhTdzoW"
      },
      "outputs": [],
      "source": []
    },
    {
      "cell_type": "markdown",
      "metadata": {
        "id": "0vRzy9YRdzoX"
      },
      "source": [
        "#### 89. How to get the n largest values of an array (★★★) \n",
        "(**hint**: np.argsort | np.argpartition)"
      ]
    },
    {
      "cell_type": "code",
      "execution_count": null,
      "metadata": {
        "id": "H1tz299UdzoY",
        "colab": {
          "base_uri": "https://localhost:8080/"
        },
        "outputId": "ab93f18e-9835-4f92-d9cd-f78c9f04a587"
      },
      "outputs": [
        {
          "output_type": "stream",
          "name": "stdout",
          "text": [
            "[995 996 997 998 999]\n"
          ]
        }
      ],
      "source": [
        "a = np.arange(1000)\n",
        "np.random.shuffle(a)\n",
        "n = 5\n",
        "print(a[np.argsort(a)[-n:]])"
      ]
    },
    {
      "cell_type": "markdown",
      "metadata": {
        "id": "wS4fLI3cdzoY"
      },
      "source": [
        "#### 90. Given an arbitrary number of vectors, build the cartesian product (every combinations of every item) (★★★) \n",
        "(**hint**: np.indices)"
      ]
    },
    {
      "cell_type": "code",
      "execution_count": null,
      "metadata": {
        "scrolled": true,
        "id": "PbSjyb4XdzoY",
        "colab": {
          "base_uri": "https://localhost:8080/"
        },
        "outputId": "b4d3fb46-9b0e-4f03-8501-6381e767c5d8"
      },
      "outputs": [
        {
          "output_type": "stream",
          "name": "stdout",
          "text": [
            "[[1 4 6]\n",
            " [1 4 7]\n",
            " [1 5 6]\n",
            " [1 5 7]\n",
            " [2 4 6]\n",
            " [2 4 7]\n",
            " [2 5 6]\n",
            " [2 5 7]\n",
            " [3 4 6]\n",
            " [3 4 7]\n",
            " [3 5 6]\n",
            " [3 5 7]]\n"
          ]
        }
      ],
      "source": [
        "def cartesian(arrays):\n",
        "    arrays = [np.asarray(a) for a in arrays]\n",
        "    shape = (len(x) for x in arrays)\n",
        "\n",
        "    ix = np.indices(shape, dtype=int)\n",
        "    ix = ix.reshape(len(arrays), -1).T\n",
        "\n",
        "    for n, arr in enumerate(arrays):\n",
        "        ix[:, n] = arrays[n][ix[:, n]]\n",
        "\n",
        "    return ix\n",
        "\n",
        "print (cartesian(([1, 2, 3], [4, 5], [6, 7])))"
      ]
    },
    {
      "cell_type": "markdown",
      "metadata": {
        "id": "HlBXatJ6dzoY"
      },
      "source": [
        "#### 91. How to create a record array from a regular array? (★★★) \n",
        "(**hint**: np.core.records.fromarrays)"
      ]
    },
    {
      "cell_type": "code",
      "execution_count": null,
      "metadata": {
        "id": "BBjkv1M4dzoY",
        "colab": {
          "base_uri": "https://localhost:8080/"
        },
        "outputId": "3698ea7d-e368-49f8-94dd-ecad124eb788"
      },
      "outputs": [
        {
          "output_type": "stream",
          "name": "stdout",
          "text": [
            "[(b'Hello', 2.5, 3) (b'World', 3.6, 2)]\n"
          ]
        }
      ],
      "source": [
        "Z = np.array([(\"Hello\", 2.5, 3),(\"World\", 3.6, 2)])\n",
        "R = np.core.records.fromarrays(Z.T,names='col1, col2, col3',formats = 'S8, f8, i8')\n",
        "print(R)"
      ]
    },
    {
      "cell_type": "markdown",
      "metadata": {
        "id": "3xS1PHT2dzoZ"
      },
      "source": [
        "#### 92. Consider a large vector Z, compute Z to the power of 3 using 3 different methods (★★★) \n",
        "(**hint**: np.power, \\*, np.einsum)"
      ]
    },
    {
      "cell_type": "code",
      "execution_count": null,
      "metadata": {
        "id": "adutru9UdzoZ",
        "colab": {
          "base_uri": "https://localhost:8080/"
        },
        "outputId": "6caf3b1a-e2af-462e-bb04-502b59b21b1b"
      },
      "outputs": [
        {
          "output_type": "stream",
          "name": "stdout",
          "text": [
            "[9.31502478e-02 3.99023910e-03 7.58605399e-02 ... 1.03733435e-01\n",
            " 9.09433351e-05 3.65821386e-02]\n",
            "[9.31502478e-02 3.99023910e-03 7.58605399e-02 ... 1.03733435e-01\n",
            " 9.09433351e-05 3.65821386e-02]\n",
            "[9.31502478e-02 3.99023910e-03 7.58605399e-02 ... 1.03733435e-01\n",
            " 9.09433351e-05 3.65821386e-02]\n"
          ]
        }
      ],
      "source": [
        "x = np.random.rand(int(5e7))\n",
        "print(np.power(x,3))\n",
        "print(x*x*x)\n",
        "print(np.einsum('i,i,i->i',x,x,x))"
      ]
    },
    {
      "cell_type": "markdown",
      "metadata": {
        "id": "HOPFJJJ0dzoZ"
      },
      "source": [
        "#### 93. Consider two arrays A and B of shape (8,3) and (2,2). How to find rows of A that contain elements of each row of B regardless of the order of the elements in B? (★★★) \n",
        "(**hint**: np.where)"
      ]
    },
    {
      "cell_type": "code",
      "execution_count": null,
      "metadata": {
        "id": "pBxlfRaSdzoZ",
        "colab": {
          "base_uri": "https://localhost:8080/"
        },
        "outputId": "8a7560fb-62c7-40d4-a345-e0b23f605091"
      },
      "outputs": [
        {
          "output_type": "stream",
          "name": "stdout",
          "text": [
            "[3]\n"
          ]
        }
      ],
      "source": [
        "A = np.random.randint(0,5,(8,3))\n",
        "B = np.random.randint(0,5,(2,2))\n",
        "C = (A[...,np.newaxis,np.newaxis]==B)\n",
        "print(np.where(C.any((3,1)).all(1))[0])"
      ]
    },
    {
      "cell_type": "markdown",
      "metadata": {
        "id": "TAQ_rFFxdzoZ"
      },
      "source": [
        "#### 94. Considering a 10x3 matrix, extract rows with unequal values (e.g. \\[2,2,3\\]) (★★★)"
      ]
    },
    {
      "cell_type": "code",
      "execution_count": null,
      "metadata": {
        "id": "0BJbr2pkdzoZ",
        "colab": {
          "base_uri": "https://localhost:8080/"
        },
        "outputId": "a3510f62-d239-4775-b159-1f86653e81d9"
      },
      "outputs": [
        {
          "output_type": "stream",
          "name": "stdout",
          "text": [
            "[[0 3 2]\n",
            " [3 0 2]\n",
            " [2 3 3]\n",
            " [1 0 3]\n",
            " [3 2 3]\n",
            " [3 1 0]\n",
            " [4 4 3]\n",
            " [1 4 4]\n",
            " [3 1 4]]\n"
          ]
        }
      ],
      "source": [
        "Z = np.random.randint(0,5,(10,3))\n",
        "E = np.all(Z[:,1:] == Z[:,:-1], axis=1)\n",
        "U = Z[~E]\n",
        "print(U)"
      ]
    },
    {
      "cell_type": "markdown",
      "metadata": {
        "id": "yEGss1MGdzoZ"
      },
      "source": [
        "#### 95. Convert a vector of ints into a matrix binary representation (★★★) \n",
        "(**hint**: np.unpackbits)"
      ]
    },
    {
      "cell_type": "code",
      "execution_count": null,
      "metadata": {
        "id": "8nK8Y5S8dzoZ",
        "colab": {
          "base_uri": "https://localhost:8080/"
        },
        "outputId": "0b29f282-ad4d-4033-dec2-c3e743f5f5a3"
      },
      "outputs": [
        {
          "output_type": "stream",
          "name": "stdout",
          "text": [
            "[[0 0 0 0 0 0 0 0]\n",
            " [0 0 0 0 0 0 0 1]\n",
            " [0 0 0 0 0 0 1 0]\n",
            " [0 0 0 0 0 0 1 1]\n",
            " [0 0 0 0 1 1 1 1]\n",
            " [0 0 0 1 0 0 0 0]\n",
            " [0 0 1 0 0 0 0 0]\n",
            " [0 1 0 0 0 0 0 0]\n",
            " [1 0 0 0 0 0 0 0]]\n"
          ]
        }
      ],
      "source": [
        "I = np.array([0, 1, 2, 3, 15, 16, 32, 64, 128], dtype=np.uint8)\n",
        "print(np.unpackbits(I[:, np.newaxis], axis=1))"
      ]
    },
    {
      "cell_type": "markdown",
      "metadata": {
        "id": "VlWJNeQ3dzoZ"
      },
      "source": [
        "#### 96. Given a two dimensional array, how to extract unique rows? (★★★) \n",
        "(**hint**: np.ascontiguousarray)"
      ]
    },
    {
      "cell_type": "code",
      "execution_count": null,
      "metadata": {
        "id": "SwnLbORvdzoa",
        "colab": {
          "base_uri": "https://localhost:8080/"
        },
        "outputId": "ef91b059-1efe-4357-de11-3094623d0e8a"
      },
      "outputs": [
        {
          "output_type": "stream",
          "name": "stdout",
          "text": [
            "[[0 1 0]\n",
            " [0 1 1]\n",
            " [1 0 0]\n",
            " [1 1 0]]\n"
          ]
        }
      ],
      "source": [
        "Z = np.random.randint(0,2,(6,3))\n",
        "T = np.ascontiguousarray(Z).view(np.dtype((np.void, Z.dtype.itemsize * Z.shape[1])))\n",
        "_, idx = np.unique(T, return_index=True)\n",
        "uZ = Z[idx]\n",
        "print(uZ)"
      ]
    },
    {
      "cell_type": "markdown",
      "metadata": {
        "id": "pQZd16OQdzoa"
      },
      "source": [
        "#### 97. Considering 2 vectors A & B, write the einsum equivalent of inner, outer, sum, and mul function (★★★) \n",
        "(**hint**: np.einsum)"
      ]
    },
    {
      "cell_type": "code",
      "execution_count": null,
      "metadata": {
        "id": "yDdkP2qEdzoa",
        "colab": {
          "base_uri": "https://localhost:8080/"
        },
        "outputId": "93bead9e-d283-457a-eedc-bc98a4f731c8"
      },
      "outputs": [
        {
          "output_type": "stream",
          "name": "stdout",
          "text": [
            "5.955981265327718\n",
            "[0.27772693 0.31610836 0.03114182 0.47740284 0.14894281 0.5410884\n",
            " 0.3693631  0.17475435 0.37579579 0.04025145]\n",
            "2.752575841979409\n",
            "[[0.27772693 0.63466124 0.02590977 0.74246096 0.65178036 0.61312355\n",
            "  0.68197608 0.16894684 0.59203996 0.04494844]\n",
            " [0.1383286  0.31610836 0.01290499 0.36980061 0.32463495 0.30538099\n",
            "  0.33967466 0.08414806 0.2948798  0.02238765]\n",
            " [0.33380924 0.76282047 0.03114182 0.89238854 0.78339651 0.7369336\n",
            "  0.81968975 0.20306283 0.71159253 0.05402502]\n",
            " [0.17857858 0.40808755 0.01666    0.47740284 0.41909515 0.3942388\n",
            "  0.43851102 0.10863292 0.38068204 0.02890187]\n",
            " [0.06346529 0.1450308  0.00592082 0.16966486 0.14894281 0.14010907\n",
            "  0.15584304 0.0386072  0.13529112 0.01027148]\n",
            " [0.24509713 0.56009565 0.02286566 0.65523012 0.57520347 0.5410884\n",
            "  0.60185153 0.14909748 0.52248189 0.0396675 ]\n",
            " [0.15041888 0.34373705 0.01403292 0.40212215 0.35300889 0.33207208\n",
            "  0.3693631  0.09150281 0.32065306 0.02434439]\n",
            " [0.28727373 0.65647758 0.02680041 0.76798289 0.67418516 0.63419953\n",
            "  0.70541886 0.17475435 0.6123912  0.04649353]\n",
            " [0.17628643 0.40284953 0.01644616 0.47127512 0.41371585 0.38917854\n",
            "  0.4328825  0.10723856 0.37579579 0.0285309 ]\n",
            " [0.24870524 0.56834091 0.02320227 0.66487586 0.58367113 0.54905385\n",
            "  0.61071148 0.15129237 0.53017343 0.04025145]]\n"
          ]
        }
      ],
      "source": [
        "A = np.random.uniform(0,1,10)\n",
        "B = np.random.uniform(0,1,10)\n",
        "\n",
        "print(np.einsum('i->', A))      # np.sum(A)\n",
        "print(np.einsum('i,i->i', A, B)) # A * B\n",
        "print(np.einsum('i,i', A, B))    # np.inner(A, B)\n",
        "print(np.einsum('i,j->ij', A, B))    # np.outer(A, B)"
      ]
    },
    {
      "cell_type": "markdown",
      "metadata": {
        "id": "kPVINOOXdzoa"
      },
      "source": [
        "#### 98. Considering a path described by two vectors (X,Y), how to sample it using equidistant samples (★★★)? \n",
        "(**hint**: np.cumsum, np.interp)"
      ]
    },
    {
      "cell_type": "code",
      "execution_count": null,
      "metadata": {
        "collapsed": true,
        "id": "P973c2audzoa",
        "colab": {
          "base_uri": "https://localhost:8080/"
        },
        "outputId": "5d7322bd-4e8c-49a5-8280-d95692de84e9"
      },
      "outputs": [
        {
          "output_type": "stream",
          "name": "stdout",
          "text": [
            "[1.00000000e-01 2.00994225e-01 3.03948099e-01 4.09773428e-01\n",
            " 5.19310334e-01 6.33316917e-01 7.52465988e-01 8.77347271e-01\n",
            " 1.00847317e+00 1.14628646e+00 1.29116861e+00 1.44344797e+00\n",
            " 1.60340735e+00 1.77129076e+00 1.94730924e+00 2.13164591e+00\n",
            " 2.32446017e+00 2.52589132e+00 2.73606151e+00 2.95507828e+00\n",
            " 3.18303664e+00 3.42002084e+00 3.66610588e+00 3.92135873e+00\n",
            " 4.18583938e+00 4.45960178e+00 4.74269456e+00 5.03516168e+00\n",
            " 5.33704304e+00 5.64837490e+00 5.96919031e+00 6.29951948e+00\n",
            " 6.63939009e+00 6.98882753e+00 7.34785520e+00 7.71649464e+00\n",
            " 8.09476576e+00 8.48268698e+00 8.88027538e+00 9.28754684e+00\n",
            " 9.70451612e+00 1.01311970e+01 1.05676022e+01 1.10137439e+01\n",
            " 1.14696332e+01 1.19352807e+01 1.24106962e+01 1.28958890e+01\n",
            " 1.33908678e+01 1.38956409e+01 1.44102161e+01 1.49346005e+01\n",
            " 1.54688013e+01 1.60128248e+01 1.65666773e+01 1.71303646e+01\n",
            " 1.77038924e+01 1.82872658e+01 1.88804900e+01 1.94835697e+01\n",
            " 2.00965094e+01 2.07193135e+01 2.13519861e+01 2.19945311e+01\n",
            " 2.26469523e+01 2.33092533e+01 2.39814376e+01 2.46635083e+01\n",
            " 2.53554686e+01 2.60573216e+01 2.67690702e+01 2.74907170e+01\n",
            " 2.82222648e+01 2.89637160e+01 2.97150732e+01 3.04763387e+01\n",
            " 3.12475148e+01 3.20286035e+01 3.28196071e+01 3.36205275e+01\n",
            " 3.44313667e+01 3.52521266e+01 3.60828088e+01 3.69234153e+01\n",
            " 3.77739476e+01 3.86344073e+01 3.95047962e+01 4.03851155e+01\n",
            " 4.12753669e+01 4.21755518e+01 4.30856714e+01 4.40057271e+01\n",
            " 4.49357203e+01 4.58756521e+01 4.68255237e+01 4.77853363e+01\n",
            " 4.87550910e+01 4.97347890e+01 5.07244312e+01 5.17240188e+01\n",
            " 5.27335526e+01 5.37530338e+01 5.47824631e+01 5.58218416e+01\n",
            " 5.68711701e+01 5.79304495e+01 5.89996806e+01 6.00788642e+01\n",
            " 6.11680012e+01 6.22670923e+01 6.33761382e+01 6.44951397e+01\n",
            " 6.56240975e+01 6.67630122e+01 6.79118847e+01 6.90707154e+01\n",
            " 7.02395051e+01 7.14182544e+01 7.26069639e+01 7.38056341e+01\n",
            " 7.50142658e+01 7.62328593e+01 7.74614153e+01 7.86999344e+01\n",
            " 7.99484170e+01 8.12068636e+01 8.24752748e+01 8.37536510e+01\n",
            " 8.50419928e+01 8.63403005e+01 8.76485747e+01 8.89668157e+01\n",
            " 9.02950241e+01 9.16332002e+01 9.29813445e+01 9.43394574e+01\n",
            " 9.57075392e+01 9.70855903e+01 9.84736112e+01 9.98716023e+01\n",
            " 1.01279564e+02 1.02697496e+02 1.04125400e+02 1.05563275e+02\n",
            " 1.07011121e+02 1.08468941e+02 1.09936732e+02 1.11414496e+02\n",
            " 1.12902234e+02 1.14399945e+02 1.15907630e+02 1.17425288e+02\n",
            " 1.18952921e+02 1.20490529e+02 1.22038111e+02 1.23595669e+02\n",
            " 1.25163202e+02 1.26740711e+02 1.28328195e+02 1.29925656e+02\n",
            " 1.31533093e+02 1.33150507e+02 1.34777897e+02 1.36415265e+02\n",
            " 1.38062610e+02 1.39719933e+02 1.41387233e+02 1.43064512e+02\n",
            " 1.44751768e+02 1.46449003e+02 1.48156217e+02 1.49873409e+02\n",
            " 1.51600581e+02 1.53337731e+02 1.55084861e+02 1.56841971e+02\n",
            " 1.58609060e+02 1.60386130e+02 1.62173179e+02 1.63970209e+02\n",
            " 1.65777219e+02 1.67594210e+02 1.69421182e+02 1.71258134e+02\n",
            " 1.73105068e+02 1.74961983e+02 1.76828879e+02 1.78705758e+02\n",
            " 1.80592617e+02 1.82489459e+02 1.84396283e+02 1.86313089e+02\n",
            " 1.88239877e+02 1.90176648e+02 1.92123401e+02 1.94080137e+02\n",
            " 1.96046856e+02 1.98023558e+02 2.00010243e+02 2.02006911e+02\n",
            " 2.04013563e+02 2.06030198e+02 2.08056817e+02 2.10093420e+02\n",
            " 2.12140006e+02 2.14196577e+02 2.16263131e+02 2.18339670e+02\n",
            " 2.20426193e+02 2.22522701e+02 2.24629193e+02 2.26745669e+02\n",
            " 2.28872131e+02 2.31008577e+02 2.33155008e+02 2.35311425e+02\n",
            " 2.37477826e+02 2.39654213e+02 2.41840585e+02 2.44036942e+02\n",
            " 2.46243285e+02 2.48459614e+02 2.50685929e+02 2.52922229e+02\n",
            " 2.55168515e+02 2.57424787e+02 2.59691045e+02 2.61967290e+02\n",
            " 2.64253520e+02 2.66549737e+02 2.68855941e+02 2.71172130e+02\n",
            " 2.73498307e+02 2.75834470e+02 2.78180620e+02 2.80536756e+02\n",
            " 2.82902880e+02 2.85278991e+02 2.87665088e+02 2.90061173e+02\n",
            " 2.92467244e+02 2.94883304e+02 2.97309350e+02 2.99745384e+02\n",
            " 3.02191405e+02 3.04647414e+02 3.07113410e+02 3.09589394e+02\n",
            " 3.12075366e+02 3.14571326e+02 3.17077273e+02 3.19593208e+02\n",
            " 3.22119132e+02 3.24655043e+02 3.27200943e+02 3.29756830e+02\n",
            " 3.32322706e+02 3.34898570e+02 3.37484423e+02 3.40080264e+02\n",
            " 3.42686093e+02 3.45301911e+02 3.47927718e+02 3.50563513e+02\n",
            " 3.53209297e+02 3.55865069e+02 3.58530831e+02 3.61206581e+02\n",
            " 3.63892320e+02 3.66588048e+02 3.69293765e+02 3.72009471e+02\n",
            " 3.74735166e+02 3.77470850e+02 3.80216524e+02 3.82972187e+02\n",
            " 3.85737839e+02 3.88513480e+02 3.91299111e+02 3.94094731e+02\n",
            " 3.96900341e+02 3.99715940e+02 4.02541528e+02 4.05377107e+02\n",
            " 4.08222675e+02 4.11078232e+02 4.13943780e+02 4.16819317e+02\n",
            " 4.19704844e+02 4.22600361e+02 4.25505868e+02 4.28421365e+02\n",
            " 4.31346851e+02 4.34282328e+02 4.37227795e+02 4.40183252e+02\n",
            " 4.43148699e+02 4.46124136e+02 4.49109564e+02 4.52104982e+02\n",
            " 4.55110390e+02 4.58125788e+02 4.61151177e+02 4.64186556e+02\n",
            " 4.67231925e+02 4.70287286e+02 4.73352636e+02 4.76427977e+02\n",
            " 4.79513309e+02 4.82608631e+02 4.85713944e+02 4.88829248e+02\n",
            " 4.91954542e+02 4.95089827e+02]\n",
            "[ 0.00000000e+00 -3.73131229e-01 -2.59817608e+00 -3.26212050e+00\n",
            " -2.18442687e+00 -2.98929946e-02  2.42923642e+00  4.54913599e+00\n",
            "  5.92318348e+00  6.35117933e+00  5.82369277e+00  4.46259540e+00\n",
            "  2.47320794e+00  1.09577220e-01 -2.36575300e+00 -4.71261671e+00\n",
            " -6.72701769e+00 -8.25541575e+00 -9.18486120e+00 -9.46381505e+00\n",
            " -9.11085788e+00 -8.12875279e+00 -6.63306046e+00 -4.69271059e+00\n",
            " -2.44736165e+00 -2.05444585e-02  2.46101146e+00  4.86841760e+00\n",
            "  7.08937968e+00  9.02539126e+00  1.05948609e+01  1.17357250e+01\n",
            "  1.24068974e+01  1.25885805e+01  1.22815267e+01  1.15053927e+01\n",
            "  1.02963689e+01  8.70429550e+00  6.78948686e+00  4.61716636e+00\n",
            "  2.25853448e+00 -1.98731680e-01 -2.68040566e+00 -5.11543300e+00\n",
            " -7.41973991e+00 -9.53891040e+00 -1.14237629e+01 -1.29919305e+01\n",
            " -1.42355069e+01 -1.51243232e+01 -1.56061571e+01 -1.57219415e+01\n",
            " -1.54217066e+01 -1.47579136e+01 -1.37255236e+01 -1.23634834e+01\n",
            " -1.07024632e+01 -8.78327367e+00 -6.65029558e+00 -4.35514246e+00\n",
            " -1.94290275e+00  5.28038914e-01  3.00985904e+00  5.45450275e+00\n",
            "  7.80093594e+00  1.00179639e+01  1.20595602e+01  1.38732623e+01\n",
            "  1.54564938e+01  1.67497894e+01  1.77435802e+01  1.84439878e+01\n",
            "  1.87990820e+01  1.88271003e+01  1.85472755e+01  1.79378850e+01\n",
            "  1.70105456e+01  1.58085777e+01  1.43501808e+01  1.26222364e+01\n",
            "  1.06905445e+01  8.58498641e+00  6.33562529e+00  3.96179025e+00\n",
            "  1.51802643e+00 -9.61699044e-01 -3.44349301e+00 -5.88951759e+00\n",
            " -8.26006582e+00 -1.05270865e+01 -1.26610269e+01 -1.46343020e+01\n",
            " -1.64206033e+01 -1.79708499e+01 -1.92894561e+01 -2.03605967e+01\n",
            " -2.11716587e+01 -2.17133504e+01 -2.19797677e+01 -2.19626531e+01\n",
            " -2.16476737e+01 -2.10622561e+01 -2.02145809e+01 -1.91158467e+01\n",
            " -1.77800930e+01 -1.62239930e+01 -1.44666197e+01 -1.25291882e+01\n",
            " -1.04347777e+01 -8.20773276e+00 -5.86978851e+00 -3.45563299e+00\n",
            " -9.92556869e-01  1.49191203e+00  3.97031733e+00  6.41557503e+00\n",
            "  8.80126359e+00  1.11019001e+01  1.32931995e+01  1.53523150e+01\n",
            "  1.72580567e+01  1.89910866e+01  2.05340895e+01  2.18719167e+01\n",
            "  2.29917039e+01  2.38829603e+01  2.45376309e+01  2.49501314e+01\n",
            "  2.51173551e+01  2.50386548e+01  2.47157984e+01  2.41529019e+01\n",
            "  2.33563391e+01  2.23346314e+01  2.10983193e+01  1.96598169e+01\n",
            "  1.80332532e+01  1.62343003e+01  1.42799934e+01  1.21885425e+01\n",
            "  9.97914013e+00  7.67176574e+00  5.28699023e+00  2.84441658e+00\n",
            "  3.68190102e-01 -2.11846865e+00 -4.59426061e+00 -7.03829202e+00\n",
            " -9.43024209e+00 -1.17505186e+01 -1.39803999e+01 -1.61021634e+01\n",
            " -1.80991985e+01 -1.99561058e+01 -2.16587804e+01 -2.31850397e+01\n",
            " -2.45166960e+01 -2.56568097e+01 -2.65976904e+01 -2.73332424e+01\n",
            " -2.78589555e+01 -2.81718833e+01 -2.82706110e+01 -2.81552119e+01\n",
            " -2.78066635e+01 -2.72341677e+01 -2.64578863e+01 -2.54844118e+01\n",
            " -2.43214986e+01 -2.29779690e+01 -2.14636172e+01 -1.97837046e+01\n",
            " -1.79341987e+01 -1.59545785e+01 -1.38585628e+01 -1.16602783e+01\n",
            " -9.37416511e+00 -7.01488958e+00 -4.59184632e+00 -2.12995331e+00\n",
            "  3.50691071e-01  2.83498918e+00  5.30813450e+00  7.75565814e+00\n",
            "  1.01522531e+01  1.24813227e+01  1.47337756e+01  1.68973642e+01\n",
            "  1.89604991e+01  2.09071945e+01  2.26943693e+01  2.43420179e+01\n",
            "  2.58422998e+01  2.71881423e+01  2.83731992e+01  2.93376609e+01\n",
            "  3.01222558e+01  3.07280750e+01  3.11531219e+01  3.13960177e+01]\n",
            "[ 0.00000000e+00  1.74026724e+00  9.81816584e-01 -1.34251287e+00\n",
            " -3.53191891e+00 -4.70449474e+00 -4.59573427e+00 -3.33831870e+00\n",
            " -1.28956083e+00  1.14234685e+00  3.55645601e+00  5.62188218e+00\n",
            "  7.09389488e+00  7.82951803e+00  7.78700678e+00  6.99685666e+00\n",
            "  5.55535240e+00  3.60417006e+00  1.30506373e+00 -1.15819722e+00\n",
            " -3.61328132e+00 -5.89130465e+00 -7.87065053e+00 -9.41689057e+00\n",
            " -1.04714836e+01 -1.09903787e+01 -1.09354306e+01 -1.03330912e+01\n",
            " -9.22690166e+00 -7.67489830e+00 -5.75257980e+00 -3.54832201e+00\n",
            " -1.15854355e+00  1.31709956e+00  3.78023622e+00  6.13780326e+00\n",
            "  8.30540149e+00  1.02098724e+01  1.17910419e+01  1.29972950e+01\n",
            "  1.37774249e+01  1.41319792e+01  1.40585758e+01  1.35636816e+01\n",
            "  1.26345244e+01  1.13409083e+01  9.72216360e+00  7.79464305e+00\n",
            "  5.64544223e+00  3.32503222e+00  8.88107041e-01 -1.59329248e+00\n",
            " -4.05992507e+00 -6.45313746e+00 -8.71327144e+00 -1.07900854e+01\n",
            " -1.26380653e+01 -1.42147006e+01 -1.54892299e+01 -1.64390858e+01\n",
            " -1.70351433e+01 -1.72938948e+01 -1.71685631e+01 -1.67219979e+01\n",
            " -1.59044166e+01 -1.47824153e+01 -1.33665280e+01 -1.16678134e+01\n",
            " -9.75246391e+00 -7.63091465e+00 -5.35345831e+00 -2.96905840e+00\n",
            " -5.09631905e-01  1.97507060e+00  4.44430515e+00  6.85344809e+00\n",
            "  9.15903461e+00  1.13337844e+01  1.33467125e+01  1.51336120e+01\n",
            "  1.66966787e+01  1.80162922e+01  1.90746708e+01  1.98127969e+01\n",
            "  2.02634499e+01  2.04221761e+01  2.02877631e+01  1.98449702e+01\n",
            "  1.90974465e+01  1.80799531e+01  1.68069397e+01  1.52959771e+01\n",
            "  1.35665801e+01  1.16227312e+01  9.51601869e+00  7.27388893e+00\n",
            "  4.92519240e+00  2.49981337e+00  2.82932820e-02 -2.45817963e+00\n",
            " -4.92460367e+00 -7.34030894e+00 -9.67635928e+00 -1.19050601e+01\n",
            " -1.40002645e+01 -1.59376556e+01 -1.76950019e+01 -1.92523833e+01\n",
            " -2.05923861e+01 -2.16995543e+01 -2.25478860e+01 -2.31432552e+01\n",
            " -2.34800725e+01 -2.35556687e+01 -2.33702741e+01 -2.29269662e+01\n",
            " -2.22315865e+01 -2.12926288e+01 -2.01211000e+01 -1.87303570e+01\n",
            " -1.71359212e+01 -1.53552740e+01 -1.34076356e+01 -1.13137308e+01\n",
            " -9.09554383e+00 -6.77606668e+00 -4.37904252e+00 -1.92870828e+00\n",
            "  5.50461201e-01  3.03400451e+00  5.49771780e+00  7.91788934e+00\n",
            "  1.02715222e+01  1.25365431e+01  1.46919953e+01  1.67182148e+01\n",
            "  1.85969872e+01  2.03116866e+01  2.18473923e+01  2.31909872e+01\n",
            "  2.43312337e+01  2.52588296e+01  2.59664444e+01  2.64391214e+01\n",
            "  2.66748505e+01  2.66796333e+01  2.64545680e+01  2.60026765e+01\n",
            "  2.53288265e+01  2.44396400e+01  2.33433894e+01  2.20498837e+01\n",
            "  2.05703459e+01  1.89172843e+01  1.71043584e+01  1.51396391e+01\n",
            "  1.30387952e+01  1.08294252e+01  8.52903617e+00  6.15551380e+00\n",
            "  3.72697869e+00  1.26164946e+00 -1.22228693e+00 -3.70679651e+00\n",
            " -6.17014862e+00 -8.59028675e+00 -1.09516293e+01 -1.32379536e+01\n",
            " -1.54338179e+01 -1.75246263e+01 -1.94966815e+01 -2.13317519e+01\n",
            " -2.29952001e+01 -2.44987532e+01 -2.58335652e+01 -2.69919481e+01\n",
            " -2.79673583e+01 -2.87543764e+01 -2.93186910e+01 -2.96679958e+01\n",
            " -2.98181354e+01 -2.97693731e+01 -2.95229769e+01 -2.90811595e+01\n",
            " -2.84133854e+01 -2.75430665e+01 -2.64934034e+01 -2.52713717e+01\n",
            " -2.38845608e+01 -2.23353782e+01 -2.06051319e+01 -1.87442619e+01\n",
            " -1.67635423e+01 -1.46739620e+01 -1.24866789e+01 -1.01933401e+01\n",
            " -7.83474328e+00 -5.42495146e+00 -2.97607515e+00 -5.00072086e-01]\n"
          ]
        }
      ],
      "source": [
        "phi = np.arange(0, 10*np.pi, 0.1)\n",
        "a = 1\n",
        "x = a*phi*np.cos(phi)\n",
        "y = a*phi*np.sin(phi)\n",
        "\n",
        "dr = (np.diff(x)**2 + np.diff(y)**2)**.5 # segment lengths\n",
        "r = np.zeros_like(x)\n",
        "r[1:] = np.cumsum(dr)\n",
        "print(r[1:])                # integrate path\n",
        "r_int = np.linspace(0, r.max(), 200) # regular spaced path\n",
        "x_int = np.interp(r_int, r, x)  # integrate path\n",
        "print(x_int)\n",
        "y_int = np.interp(r_int, r, y)\n",
        "print(y_int)"
      ]
    },
    {
      "cell_type": "markdown",
      "metadata": {
        "id": "yitxhS2Edzoa"
      },
      "source": [
        "#### 99. Given an integer n and a 2D array X, select from X the rows which can be interpreted as draws from a multinomial distribution with n degrees, i.e., the rows which only contain integers and which sum to n. (★★★) \n",
        "(**hint**: np.logical\\_and.reduce, np.mod)"
      ]
    },
    {
      "cell_type": "code",
      "execution_count": null,
      "metadata": {
        "id": "6aDEYOiadzoa",
        "colab": {
          "base_uri": "https://localhost:8080/"
        },
        "outputId": "4464d5e8-73e5-4d8e-95fd-b5fc16fc81db"
      },
      "outputs": [
        {
          "output_type": "stream",
          "name": "stdout",
          "text": [
            "[[2. 0. 1. 1.]]\n"
          ]
        }
      ],
      "source": [
        "X = np.asarray([[1.0, 0.0, 3.0, 8.0],\n",
        "                [2.0, 0.0, 1.0, 1.0],\n",
        "                [1.5, 2.5, 1.0, 0.0]])\n",
        "n = 4\n",
        "M = np.logical_and.reduce(np.mod(X, 1) == 0, axis=-1)\n",
        "M &= (X.sum(axis=-1) == n)\n",
        "print(X[M])"
      ]
    },
    {
      "cell_type": "markdown",
      "metadata": {
        "id": "dQWfcuyAdzoa"
      },
      "source": [
        "#### 100. Compute bootstrapped 95% confidence intervals for the mean of a 1D array X (i.e., resample the elements of an array with replacement N times, compute the mean of each sample, and then compute percentiles over the means). (★★★) \n",
        "(**hint**: np.percentile)"
      ]
    },
    {
      "cell_type": "code",
      "execution_count": null,
      "metadata": {
        "id": "RpdQR52ddzoa",
        "colab": {
          "base_uri": "https://localhost:8080/"
        },
        "outputId": "3f59b481-de75-4d9f-c709-564a4dab7323"
      },
      "outputs": [
        {
          "output_type": "stream",
          "name": "stdout",
          "text": [
            "[-0.21203252  0.16378408]\n"
          ]
        }
      ],
      "source": [
        "X = np.random.randn(100) # random 1D array\n",
        "N = 1000 # number of bootstrap samples\n",
        "idx = np.random.randint(0, X.size, (N, X.size))\n",
        "means = X[idx].mean(axis=1)\n",
        "confint = np.percentile(means, [2.5, 97.5])\n",
        "print(confint)"
      ]
    }
  ],
  "metadata": {
    "kernelspec": {
      "display_name": "Python 3",
      "language": "python",
      "name": "python3"
    },
    "language_info": {
      "codemirror_mode": {
        "name": "ipython",
        "version": 3
      },
      "file_extension": ".py",
      "mimetype": "text/x-python",
      "name": "python",
      "nbconvert_exporter": "python",
      "pygments_lexer": "ipython3",
      "version": "3.8.3"
    },
    "colab": {
      "provenance": [],
      "collapsed_sections": [
        "dhPPkdQLdzoQ"
      ],
      "include_colab_link": true
    }
  },
  "nbformat": 4,
  "nbformat_minor": 0
}